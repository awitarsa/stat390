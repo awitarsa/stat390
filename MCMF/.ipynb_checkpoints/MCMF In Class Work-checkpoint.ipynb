{
 "cells": [
  {
   "cell_type": "code",
   "execution_count": 1,
   "id": "41c9478a",
   "metadata": {},
   "outputs": [],
   "source": [
    "import pandas as pd\n",
    "import seaborn as sns\n",
    "import matplotlib.pyplot as plt\n",
    "from skimpy import clean_columns"
   ]
  },
  {
   "cell_type": "code",
   "execution_count": 71,
   "id": "5f6d0de0",
   "metadata": {},
   "outputs": [],
   "source": [
    "df = pd.read_csv('My_CHI._My_Future._Programs.csv')"
   ]
  },
  {
   "cell_type": "code",
   "execution_count": 72,
   "id": "8edbcee4",
   "metadata": {
    "scrolled": true
   },
   "outputs": [
    {
     "data": {
      "text/html": [
       "<pre style=\"white-space:pre;overflow-x:auto;line-height:normal;font-family:Menlo,'DejaVu Sans Mono',consolas,'Courier New',monospace\"><span style=\"color: #008080; text-decoration-color: #008080; font-weight: bold\">39</span> column names have been cleaned\n",
       "</pre>\n"
      ],
      "text/plain": [
       "\u001b[1;36m39\u001b[0m column names have been cleaned\n"
      ]
     },
     "metadata": {},
     "output_type": "display_data"
    }
   ],
   "source": [
    "df = clean_columns(df)"
   ]
  },
  {
   "cell_type": "code",
   "execution_count": 73,
   "id": "460bca11",
   "metadata": {
    "scrolled": true
   },
   "outputs": [
    {
     "data": {
      "text/plain": [
       "Index(['program_id', 'program_name', 'description', 'org_name',\n",
       "       'category_name', 'capacity', 'min_age', 'max_age', 'address', 'city',\n",
       "       'state', 'zip_code', 'program_type', 'program_url', 'online_address',\n",
       "       'registration_url', 'registration_open', 'registration_deadline',\n",
       "       'start_date', 'end_date', 'start_time', 'end_time', 'contact_name',\n",
       "       'contact_email', 'contact_phone', 'program_price',\n",
       "       'geographic_cluster_name', 'scholarship_available', 'participants_paid',\n",
       "       'transport_provided', 'has_free_food', 'meeting_type', 'image',\n",
       "       'hidden_programs', 'featured', 'tag', 'latitude', 'longitude',\n",
       "       'location'],\n",
       "      dtype='object')"
      ]
     },
     "execution_count": 73,
     "metadata": {},
     "output_type": "execute_result"
    }
   ],
   "source": [
    "df.columns"
   ]
  },
  {
   "cell_type": "code",
   "execution_count": null,
   "id": "a4f6daae",
   "metadata": {},
   "outputs": [],
   "source": [
    "df.head(1)"
   ]
  },
  {
   "cell_type": "code",
   "execution_count": 42,
   "id": "e8fdc9e3",
   "metadata": {
    "scrolled": true
   },
   "outputs": [
    {
     "data": {
      "text/plain": [
       "0        How to Finally Get Consistent with Healthy Eating\n",
       "1                   English Conversation with Chicago Lawn\n",
       "2        Law at the Library: Changes in Tax Law, Know B...\n",
       "3               Voices for Justice: Author Qian Julie Wang\n",
       "4        Science Fiction & Fantasy Book Group: Dawn by ...\n",
       "                               ...                        \n",
       "68591                Tumbling Lev. 4 - 6 at Morgan Park SC\n",
       "68592    Ice Skating - Freestyle Ice Basic1-FS6 at Morg...\n",
       "68593     Ice Skating - Adult Open Skate at Morgan Park SC\n",
       "68594                       Stick & Puck at Morgan Park SC\n",
       "68595              Ice Skating - Basic 1 at Morgan Park SC\n",
       "Name: program_name, Length: 68596, dtype: object"
      ]
     },
     "execution_count": 42,
     "metadata": {},
     "output_type": "execute_result"
    }
   ],
   "source": [
    "df.program_name"
   ]
  },
  {
   "cell_type": "markdown",
   "id": "b2d87c27",
   "metadata": {},
   "source": [
    "## Splitting Data"
   ]
  },
  {
   "cell_type": "markdown",
   "id": "76ea9921",
   "metadata": {},
   "source": [
    "### Meeting Type"
   ]
  },
  {
   "cell_type": "code",
   "execution_count": 28,
   "id": "3a21a8d7",
   "metadata": {},
   "outputs": [],
   "source": [
    "df_online = df[df['meeting_type'] == 'online']"
   ]
  },
  {
   "cell_type": "code",
   "execution_count": 29,
   "id": "d418c891",
   "metadata": {},
   "outputs": [],
   "source": [
    "df_face = df[df['meeting_type'] == 'face_to_face']"
   ]
  },
  {
   "cell_type": "code",
   "execution_count": 30,
   "id": "b8215172",
   "metadata": {},
   "outputs": [
    {
     "data": {
      "text/html": [
       "<div>\n",
       "<style scoped>\n",
       "    .dataframe tbody tr th:only-of-type {\n",
       "        vertical-align: middle;\n",
       "    }\n",
       "\n",
       "    .dataframe tbody tr th {\n",
       "        vertical-align: top;\n",
       "    }\n",
       "\n",
       "    .dataframe thead th {\n",
       "        text-align: right;\n",
       "    }\n",
       "</style>\n",
       "<table border=\"1\" class=\"dataframe\">\n",
       "  <thead>\n",
       "    <tr style=\"text-align: right;\">\n",
       "      <th></th>\n",
       "      <th>program_id</th>\n",
       "      <th>program_name</th>\n",
       "      <th>description</th>\n",
       "      <th>org_name</th>\n",
       "      <th>category_name</th>\n",
       "      <th>capacity</th>\n",
       "      <th>min_age</th>\n",
       "      <th>max_age</th>\n",
       "      <th>address</th>\n",
       "      <th>city</th>\n",
       "      <th>...</th>\n",
       "      <th>transport_provided</th>\n",
       "      <th>has_free_food</th>\n",
       "      <th>meeting_type</th>\n",
       "      <th>image</th>\n",
       "      <th>hidden_programs</th>\n",
       "      <th>featured</th>\n",
       "      <th>tag</th>\n",
       "      <th>latitude</th>\n",
       "      <th>longitude</th>\n",
       "      <th>location</th>\n",
       "    </tr>\n",
       "  </thead>\n",
       "  <tbody>\n",
       "    <tr>\n",
       "      <th>135</th>\n",
       "      <td>106198</td>\n",
       "      <td>All CPL Locations Closed Thursday, November 25</td>\n",
       "      <td>All CPL locations will be closed Thursday, Nov...</td>\n",
       "      <td>Chicago Public Library</td>\n",
       "      <td>Helping Your Community.</td>\n",
       "      <td>99.0</td>\n",
       "      <td>0</td>\n",
       "      <td>99</td>\n",
       "      <td>NaN</td>\n",
       "      <td>Chicago</td>\n",
       "      <td>...</td>\n",
       "      <td>False</td>\n",
       "      <td>False</td>\n",
       "      <td>face_to_face</td>\n",
       "      <td>NaN</td>\n",
       "      <td>False</td>\n",
       "      <td>False</td>\n",
       "      <td>Event</td>\n",
       "      <td>NaN</td>\n",
       "      <td>NaN</td>\n",
       "      <td>NaN</td>\n",
       "    </tr>\n",
       "  </tbody>\n",
       "</table>\n",
       "<p>1 rows × 39 columns</p>\n",
       "</div>"
      ],
      "text/plain": [
       "     program_id                                    program_name  \\\n",
       "135      106198  All CPL Locations Closed Thursday, November 25   \n",
       "\n",
       "                                           description  \\\n",
       "135  All CPL locations will be closed Thursday, Nov...   \n",
       "\n",
       "                   org_name            category_name  capacity  min_age  \\\n",
       "135  Chicago Public Library  Helping Your Community.      99.0        0   \n",
       "\n",
       "     max_age address     city  ... transport_provided  has_free_food  \\\n",
       "135       99     NaN  Chicago  ...              False          False   \n",
       "\n",
       "     meeting_type image hidden_programs featured    tag latitude longitude  \\\n",
       "135  face_to_face   NaN           False    False  Event      NaN       NaN   \n",
       "\n",
       "    location  \n",
       "135      NaN  \n",
       "\n",
       "[1 rows x 39 columns]"
      ]
     },
     "execution_count": 30,
     "metadata": {},
     "output_type": "execute_result"
    }
   ],
   "source": [
    "df_face.head(1)"
   ]
  },
  {
   "cell_type": "code",
   "execution_count": 33,
   "id": "ff69e094",
   "metadata": {
    "scrolled": true
   },
   "outputs": [
    {
     "data": {
      "text/plain": [
       "False    61234\n",
       "True        69\n",
       "Name: transport_provided, dtype: int64"
      ]
     },
     "execution_count": 33,
     "metadata": {},
     "output_type": "execute_result"
    }
   ],
   "source": [
    "df_face.transport_provided.value_counts()"
   ]
  },
  {
   "cell_type": "code",
   "execution_count": 34,
   "id": "7f1a76f5",
   "metadata": {},
   "outputs": [],
   "source": [
    "# dataframe of in person programs where transportation is provided\n",
    "df_tp_og_index = df[df['transport_provided'] == True]"
   ]
  },
  {
   "cell_type": "code",
   "execution_count": 35,
   "id": "479d21ee",
   "metadata": {},
   "outputs": [],
   "source": [
    "# reindexing df_tp_og_index for ease of use when working with rows where transportation is provided\n",
    "df_tp = df_tp_og_index.reset_index()"
   ]
  },
  {
   "cell_type": "code",
   "execution_count": 36,
   "id": "a324ed17",
   "metadata": {},
   "outputs": [],
   "source": [
    "#dropping old index\n",
    "df_tp = df_tp.iloc[: , 1:]"
   ]
  },
  {
   "cell_type": "code",
   "execution_count": 37,
   "id": "2421348c",
   "metadata": {
    "scrolled": true
   },
   "outputs": [
    {
     "data": {
      "text/html": [
       "<div>\n",
       "<style scoped>\n",
       "    .dataframe tbody tr th:only-of-type {\n",
       "        vertical-align: middle;\n",
       "    }\n",
       "\n",
       "    .dataframe tbody tr th {\n",
       "        vertical-align: top;\n",
       "    }\n",
       "\n",
       "    .dataframe thead th {\n",
       "        text-align: right;\n",
       "    }\n",
       "</style>\n",
       "<table border=\"1\" class=\"dataframe\">\n",
       "  <thead>\n",
       "    <tr style=\"text-align: right;\">\n",
       "      <th></th>\n",
       "      <th>program_id</th>\n",
       "      <th>program_name</th>\n",
       "      <th>description</th>\n",
       "      <th>org_name</th>\n",
       "      <th>category_name</th>\n",
       "      <th>capacity</th>\n",
       "      <th>min_age</th>\n",
       "      <th>max_age</th>\n",
       "      <th>address</th>\n",
       "      <th>city</th>\n",
       "      <th>...</th>\n",
       "      <th>transport_provided</th>\n",
       "      <th>has_free_food</th>\n",
       "      <th>meeting_type</th>\n",
       "      <th>image</th>\n",
       "      <th>hidden_programs</th>\n",
       "      <th>featured</th>\n",
       "      <th>tag</th>\n",
       "      <th>latitude</th>\n",
       "      <th>longitude</th>\n",
       "      <th>location</th>\n",
       "    </tr>\n",
       "  </thead>\n",
       "  <tbody>\n",
       "    <tr>\n",
       "      <th>0</th>\n",
       "      <td>121076</td>\n",
       "      <td>Test Program 4/21/2022-4</td>\n",
       "      <td>&lt;p&gt;Test for no address&lt;/p&gt;</td>\n",
       "      <td>DYN Tech</td>\n",
       "      <td>Transportation</td>\n",
       "      <td>NaN</td>\n",
       "      <td>4</td>\n",
       "      <td>21</td>\n",
       "      <td>1234 East 56th Street</td>\n",
       "      <td>Chicago</td>\n",
       "      <td>...</td>\n",
       "      <td>True</td>\n",
       "      <td>True</td>\n",
       "      <td>face_to_face</td>\n",
       "      <td>https://cityoflearning-uploads.s3.amazonaws.co...</td>\n",
       "      <td>False</td>\n",
       "      <td>False</td>\n",
       "      <td>Program</td>\n",
       "      <td>41.793495</td>\n",
       "      <td>-87.595184</td>\n",
       "      <td>POINT (-87.595184326 41.793495178)</td>\n",
       "    </tr>\n",
       "    <tr>\n",
       "      <th>1</th>\n",
       "      <td>98698</td>\n",
       "      <td>Kayak and Caring for the Environment</td>\n",
       "      <td>&lt;p&gt;Time: 9:30 a.m. - 2:30 p.m.&lt;br&gt;Capacity: 15...</td>\n",
       "      <td>John G. Shedd Aquarium</td>\n",
       "      <td>Science</td>\n",
       "      <td>15.0</td>\n",
       "      <td>13</td>\n",
       "      <td>18</td>\n",
       "      <td>NaN</td>\n",
       "      <td>NaN</td>\n",
       "      <td>...</td>\n",
       "      <td>True</td>\n",
       "      <td>False</td>\n",
       "      <td>face_to_face</td>\n",
       "      <td>https://cityoflearning-uploads.s3.amazonaws.co...</td>\n",
       "      <td>False</td>\n",
       "      <td>False</td>\n",
       "      <td>Event</td>\n",
       "      <td>NaN</td>\n",
       "      <td>NaN</td>\n",
       "      <td>NaN</td>\n",
       "    </tr>\n",
       "    <tr>\n",
       "      <th>2</th>\n",
       "      <td>124453</td>\n",
       "      <td>Cannabis Legal Studies</td>\n",
       "      <td>&lt;p&gt;&lt;strong&gt;Program Overview&lt;/strong&gt;&lt;/p&gt;&lt;p&gt;Leg...</td>\n",
       "      <td>LAW AND THE FAM ℠</td>\n",
       "      <td>Work + Career</td>\n",
       "      <td>25.0</td>\n",
       "      <td>18</td>\n",
       "      <td>25</td>\n",
       "      <td>NaN</td>\n",
       "      <td>NaN</td>\n",
       "      <td>...</td>\n",
       "      <td>True</td>\n",
       "      <td>True</td>\n",
       "      <td>online</td>\n",
       "      <td>https://cityoflearning-uploads.s3.amazonaws.co...</td>\n",
       "      <td>False</td>\n",
       "      <td>False</td>\n",
       "      <td>Job</td>\n",
       "      <td>NaN</td>\n",
       "      <td>NaN</td>\n",
       "      <td>NaN</td>\n",
       "    </tr>\n",
       "    <tr>\n",
       "      <th>3</th>\n",
       "      <td>98700</td>\n",
       "      <td>Kayak and Caring for the Environment</td>\n",
       "      <td>&lt;p&gt;Dates: Please only select one of three date...</td>\n",
       "      <td>John G. Shedd Aquarium</td>\n",
       "      <td>Nature.</td>\n",
       "      <td>15.0</td>\n",
       "      <td>13</td>\n",
       "      <td>18</td>\n",
       "      <td>NaN</td>\n",
       "      <td>NaN</td>\n",
       "      <td>...</td>\n",
       "      <td>True</td>\n",
       "      <td>False</td>\n",
       "      <td>face_to_face</td>\n",
       "      <td>https://cityoflearning-uploads.s3.amazonaws.co...</td>\n",
       "      <td>False</td>\n",
       "      <td>False</td>\n",
       "      <td>Event</td>\n",
       "      <td>NaN</td>\n",
       "      <td>NaN</td>\n",
       "      <td>NaN</td>\n",
       "    </tr>\n",
       "    <tr>\n",
       "      <th>4</th>\n",
       "      <td>127088</td>\n",
       "      <td>Chicago200</td>\n",
       "      <td>&lt;p&gt;Chicago200 is an annual leadership program ...</td>\n",
       "      <td>Common Purpose</td>\n",
       "      <td>Helping Your Community.</td>\n",
       "      <td>NaN</td>\n",
       "      <td>18</td>\n",
       "      <td>25</td>\n",
       "      <td>NaN</td>\n",
       "      <td>Chicago</td>\n",
       "      <td>...</td>\n",
       "      <td>True</td>\n",
       "      <td>True</td>\n",
       "      <td>face_to_face</td>\n",
       "      <td>https://cityoflearning-uploads.s3.amazonaws.co...</td>\n",
       "      <td>False</td>\n",
       "      <td>False</td>\n",
       "      <td>Event</td>\n",
       "      <td>NaN</td>\n",
       "      <td>NaN</td>\n",
       "      <td>NaN</td>\n",
       "    </tr>\n",
       "    <tr>\n",
       "      <th>...</th>\n",
       "      <td>...</td>\n",
       "      <td>...</td>\n",
       "      <td>...</td>\n",
       "      <td>...</td>\n",
       "      <td>...</td>\n",
       "      <td>...</td>\n",
       "      <td>...</td>\n",
       "      <td>...</td>\n",
       "      <td>...</td>\n",
       "      <td>...</td>\n",
       "      <td>...</td>\n",
       "      <td>...</td>\n",
       "      <td>...</td>\n",
       "      <td>...</td>\n",
       "      <td>...</td>\n",
       "      <td>...</td>\n",
       "      <td>...</td>\n",
       "      <td>...</td>\n",
       "      <td>...</td>\n",
       "      <td>...</td>\n",
       "      <td>...</td>\n",
       "    </tr>\n",
       "    <tr>\n",
       "      <th>66</th>\n",
       "      <td>134605</td>\n",
       "      <td>Christ, Camping, &amp; Coming of Age</td>\n",
       "      <td>&lt;p&gt;Two safe, fun-filled, and spiritually nurtu...</td>\n",
       "      <td>Agape Center</td>\n",
       "      <td>Nature.</td>\n",
       "      <td>12.0</td>\n",
       "      <td>11</td>\n",
       "      <td>14</td>\n",
       "      <td>9600 Wolf Road</td>\n",
       "      <td>Willow Springs</td>\n",
       "      <td>...</td>\n",
       "      <td>True</td>\n",
       "      <td>True</td>\n",
       "      <td>face_to_face</td>\n",
       "      <td>https://cityoflearning-uploads.s3.amazonaws.co...</td>\n",
       "      <td>False</td>\n",
       "      <td>False</td>\n",
       "      <td>Event</td>\n",
       "      <td>41.713299</td>\n",
       "      <td>-87.895203</td>\n",
       "      <td>POINT (-87.895202637 41.713298798)</td>\n",
       "    </tr>\n",
       "    <tr>\n",
       "      <th>67</th>\n",
       "      <td>134606</td>\n",
       "      <td>Christ, Camping, &amp; Coming of Age</td>\n",
       "      <td>&lt;p&gt;Two safe, fun-filled, and spiritually nurtu...</td>\n",
       "      <td>Agape Center</td>\n",
       "      <td>Sports + Wellness.</td>\n",
       "      <td>12.0</td>\n",
       "      <td>11</td>\n",
       "      <td>14</td>\n",
       "      <td>9600 Wolf Road</td>\n",
       "      <td>Willow Springs</td>\n",
       "      <td>...</td>\n",
       "      <td>True</td>\n",
       "      <td>True</td>\n",
       "      <td>face_to_face</td>\n",
       "      <td>https://cityoflearning-uploads.s3.amazonaws.co...</td>\n",
       "      <td>False</td>\n",
       "      <td>False</td>\n",
       "      <td>Event</td>\n",
       "      <td>41.713310</td>\n",
       "      <td>-87.895157</td>\n",
       "      <td>POINT (-87.89515686 41.713310242)</td>\n",
       "    </tr>\n",
       "    <tr>\n",
       "      <th>68</th>\n",
       "      <td>134605</td>\n",
       "      <td>Christ, Camping, &amp; Coming of Age</td>\n",
       "      <td>&lt;p&gt;Two safe, fun-filled, and spiritually nurtu...</td>\n",
       "      <td>Agape Center</td>\n",
       "      <td>Sports + Wellness.</td>\n",
       "      <td>12.0</td>\n",
       "      <td>11</td>\n",
       "      <td>14</td>\n",
       "      <td>9600 Wolf Road</td>\n",
       "      <td>Willow Springs</td>\n",
       "      <td>...</td>\n",
       "      <td>True</td>\n",
       "      <td>True</td>\n",
       "      <td>face_to_face</td>\n",
       "      <td>https://cityoflearning-uploads.s3.amazonaws.co...</td>\n",
       "      <td>False</td>\n",
       "      <td>False</td>\n",
       "      <td>Event</td>\n",
       "      <td>41.713299</td>\n",
       "      <td>-87.895203</td>\n",
       "      <td>POINT (-87.895202637 41.713298798)</td>\n",
       "    </tr>\n",
       "    <tr>\n",
       "      <th>69</th>\n",
       "      <td>94257</td>\n",
       "      <td>MAPSCorps @ Centers for New Horizons - Altgeld...</td>\n",
       "      <td>&lt;p&gt;Are you ready to build skills for your futu...</td>\n",
       "      <td>MAPSCorps</td>\n",
       "      <td>Work + Career</td>\n",
       "      <td>10.0</td>\n",
       "      <td>16</td>\n",
       "      <td>19</td>\n",
       "      <td>13107 South Ingleside Avenue</td>\n",
       "      <td>Chicago</td>\n",
       "      <td>...</td>\n",
       "      <td>True</td>\n",
       "      <td>False</td>\n",
       "      <td>face_to_face</td>\n",
       "      <td>https://cityoflearning-uploads.s3.amazonaws.co...</td>\n",
       "      <td>False</td>\n",
       "      <td>False</td>\n",
       "      <td>Job</td>\n",
       "      <td>41.657211</td>\n",
       "      <td>-87.599350</td>\n",
       "      <td>POINT (-87.599349976 41.657211304)</td>\n",
       "    </tr>\n",
       "    <tr>\n",
       "      <th>70</th>\n",
       "      <td>94257</td>\n",
       "      <td>MAPSCorps @ Centers for New Horizons - Altgeld...</td>\n",
       "      <td>&lt;p&gt;Are you ready to build skills for your futu...</td>\n",
       "      <td>MAPSCorps</td>\n",
       "      <td>Science</td>\n",
       "      <td>10.0</td>\n",
       "      <td>16</td>\n",
       "      <td>19</td>\n",
       "      <td>13107 South Ingleside Avenue</td>\n",
       "      <td>Chicago</td>\n",
       "      <td>...</td>\n",
       "      <td>True</td>\n",
       "      <td>False</td>\n",
       "      <td>face_to_face</td>\n",
       "      <td>https://cityoflearning-uploads.s3.amazonaws.co...</td>\n",
       "      <td>False</td>\n",
       "      <td>False</td>\n",
       "      <td>Program</td>\n",
       "      <td>41.657211</td>\n",
       "      <td>-87.599350</td>\n",
       "      <td>POINT (-87.599349976 41.657211304)</td>\n",
       "    </tr>\n",
       "  </tbody>\n",
       "</table>\n",
       "<p>71 rows × 39 columns</p>\n",
       "</div>"
      ],
      "text/plain": [
       "    program_id                                       program_name  \\\n",
       "0       121076                           Test Program 4/21/2022-4   \n",
       "1        98698               Kayak and Caring for the Environment   \n",
       "2       124453                             Cannabis Legal Studies   \n",
       "3        98700               Kayak and Caring for the Environment   \n",
       "4       127088                                         Chicago200   \n",
       "..         ...                                                ...   \n",
       "66      134605                   Christ, Camping, & Coming of Age   \n",
       "67      134606                   Christ, Camping, & Coming of Age   \n",
       "68      134605                   Christ, Camping, & Coming of Age   \n",
       "69       94257  MAPSCorps @ Centers for New Horizons - Altgeld...   \n",
       "70       94257  MAPSCorps @ Centers for New Horizons - Altgeld...   \n",
       "\n",
       "                                          description                org_name  \\\n",
       "0                          <p>Test for no address</p>                DYN Tech   \n",
       "1   <p>Time: 9:30 a.m. - 2:30 p.m.<br>Capacity: 15...  John G. Shedd Aquarium   \n",
       "2   <p><strong>Program Overview</strong></p><p>Leg...       LAW AND THE FAM ℠   \n",
       "3   <p>Dates: Please only select one of three date...  John G. Shedd Aquarium   \n",
       "4   <p>Chicago200 is an annual leadership program ...          Common Purpose   \n",
       "..                                                ...                     ...   \n",
       "66  <p>Two safe, fun-filled, and spiritually nurtu...            Agape Center   \n",
       "67  <p>Two safe, fun-filled, and spiritually nurtu...            Agape Center   \n",
       "68  <p>Two safe, fun-filled, and spiritually nurtu...            Agape Center   \n",
       "69  <p>Are you ready to build skills for your futu...               MAPSCorps   \n",
       "70  <p>Are you ready to build skills for your futu...               MAPSCorps   \n",
       "\n",
       "              category_name  capacity  min_age  max_age  \\\n",
       "0            Transportation       NaN        4       21   \n",
       "1                   Science      15.0       13       18   \n",
       "2             Work + Career      25.0       18       25   \n",
       "3                   Nature.      15.0       13       18   \n",
       "4   Helping Your Community.       NaN       18       25   \n",
       "..                      ...       ...      ...      ...   \n",
       "66                  Nature.      12.0       11       14   \n",
       "67       Sports + Wellness.      12.0       11       14   \n",
       "68       Sports + Wellness.      12.0       11       14   \n",
       "69            Work + Career      10.0       16       19   \n",
       "70                  Science      10.0       16       19   \n",
       "\n",
       "                         address            city  ... transport_provided  \\\n",
       "0          1234 East 56th Street         Chicago  ...               True   \n",
       "1                            NaN             NaN  ...               True   \n",
       "2                            NaN             NaN  ...               True   \n",
       "3                            NaN             NaN  ...               True   \n",
       "4                            NaN         Chicago  ...               True   \n",
       "..                           ...             ...  ...                ...   \n",
       "66                9600 Wolf Road  Willow Springs  ...               True   \n",
       "67                9600 Wolf Road  Willow Springs  ...               True   \n",
       "68                9600 Wolf Road  Willow Springs  ...               True   \n",
       "69  13107 South Ingleside Avenue         Chicago  ...               True   \n",
       "70  13107 South Ingleside Avenue         Chicago  ...               True   \n",
       "\n",
       "    has_free_food  meeting_type  \\\n",
       "0            True  face_to_face   \n",
       "1           False  face_to_face   \n",
       "2            True        online   \n",
       "3           False  face_to_face   \n",
       "4            True  face_to_face   \n",
       "..            ...           ...   \n",
       "66           True  face_to_face   \n",
       "67           True  face_to_face   \n",
       "68           True  face_to_face   \n",
       "69          False  face_to_face   \n",
       "70          False  face_to_face   \n",
       "\n",
       "                                                image hidden_programs  \\\n",
       "0   https://cityoflearning-uploads.s3.amazonaws.co...           False   \n",
       "1   https://cityoflearning-uploads.s3.amazonaws.co...           False   \n",
       "2   https://cityoflearning-uploads.s3.amazonaws.co...           False   \n",
       "3   https://cityoflearning-uploads.s3.amazonaws.co...           False   \n",
       "4   https://cityoflearning-uploads.s3.amazonaws.co...           False   \n",
       "..                                                ...             ...   \n",
       "66  https://cityoflearning-uploads.s3.amazonaws.co...           False   \n",
       "67  https://cityoflearning-uploads.s3.amazonaws.co...           False   \n",
       "68  https://cityoflearning-uploads.s3.amazonaws.co...           False   \n",
       "69  https://cityoflearning-uploads.s3.amazonaws.co...           False   \n",
       "70  https://cityoflearning-uploads.s3.amazonaws.co...           False   \n",
       "\n",
       "   featured      tag   latitude  longitude                            location  \n",
       "0     False  Program  41.793495 -87.595184  POINT (-87.595184326 41.793495178)  \n",
       "1     False    Event        NaN        NaN                                 NaN  \n",
       "2     False      Job        NaN        NaN                                 NaN  \n",
       "3     False    Event        NaN        NaN                                 NaN  \n",
       "4     False    Event        NaN        NaN                                 NaN  \n",
       "..      ...      ...        ...        ...                                 ...  \n",
       "66    False    Event  41.713299 -87.895203  POINT (-87.895202637 41.713298798)  \n",
       "67    False    Event  41.713310 -87.895157   POINT (-87.89515686 41.713310242)  \n",
       "68    False    Event  41.713299 -87.895203  POINT (-87.895202637 41.713298798)  \n",
       "69    False      Job  41.657211 -87.599350  POINT (-87.599349976 41.657211304)  \n",
       "70    False  Program  41.657211 -87.599350  POINT (-87.599349976 41.657211304)  \n",
       "\n",
       "[71 rows x 39 columns]"
      ]
     },
     "execution_count": 37,
     "metadata": {},
     "output_type": "execute_result"
    }
   ],
   "source": [
    "df_tp"
   ]
  },
  {
   "cell_type": "code",
   "execution_count": 76,
   "id": "481085d1",
   "metadata": {},
   "outputs": [],
   "source": [
    "# there was 1 row value in the category_name column called \"Computers\" and 777 called \"Computers.\" - replacing \"Computer with \"Computers.\n",
    "df[\"category_name\"] = df[\"category_name\"].replace(\"Computers\", \"Computers.\")"
   ]
  },
  {
   "cell_type": "code",
   "execution_count": 77,
   "id": "678c1e5b",
   "metadata": {
    "scrolled": true
   },
   "outputs": [
    {
     "name": "stderr",
     "output_type": "stream",
     "text": [
      "/var/folders/8n/jcf8jkgd07q33yx5hgq1969r0000gn/T/ipykernel_93018/52338994.py:6: FutureWarning: The frame.append method is deprecated and will be removed from pandas in a future version. Use pandas.concat instead.\n",
      "  df = df.append(new_row, ignore_index=True)\n"
     ]
    }
   ],
   "source": [
    "# 1 row value with Science + Math, split into two \n",
    "# Duplicate \n",
    "new_row = df.loc[df['category_name'] == 'Science & Math'].copy()\n",
    "\n",
    "# Append new row\n",
    "df = df.append(new_row, ignore_index=True)"
   ]
  },
  {
   "cell_type": "code",
   "execution_count": 78,
   "id": "c3086248",
   "metadata": {
    "scrolled": false
   },
   "outputs": [
    {
     "data": {
      "text/plain": [
       "7942     76728\n",
       "68596    76728\n",
       "Name: program_id, dtype: int64"
      ]
     },
     "execution_count": 78,
     "metadata": {},
     "output_type": "execute_result"
    }
   ],
   "source": [
    "df['program_id'].loc[df['category_name'] == 'Science & Math']"
   ]
  },
  {
   "cell_type": "code",
   "execution_count": 79,
   "id": "440712ab",
   "metadata": {},
   "outputs": [],
   "source": [
    "df.loc[7942, 'category_name'] = 'Science'\n",
    "df.loc[68597, 'category_name'] = 'Math'"
   ]
  },
  {
   "cell_type": "code",
   "execution_count": 80,
   "id": "c683e6d1",
   "metadata": {
    "scrolled": false
   },
   "outputs": [
    {
     "data": {
      "text/plain": [
       "Sports + Wellness.          35310\n",
       "Music & Art.                17274\n",
       "Reading & Writing.           6830\n",
       "Academic Support             2127\n",
       "Science                      1311\n",
       "Building & Fixing Things     1127\n",
       "Computers.                   1014\n",
       "Nature.                       698\n",
       "Helping Your Community.       523\n",
       "Performance.                  493\n",
       "Work + Career                 377\n",
       "Food.                         376\n",
       "Healthcare                    367\n",
       "Managing Money.               348\n",
       "Digital Media.                169\n",
       "Social Studies                162\n",
       "Customer/Human Service         39\n",
       "Math                           30\n",
       "Teaching                       11\n",
       "Transportation                  7\n",
       "Law                             3\n",
       "Science & Math                  1\n",
       "Name: category_name, dtype: int64"
      ]
     },
     "execution_count": 80,
     "metadata": {},
     "output_type": "execute_result"
    }
   ],
   "source": [
    "df.category_name.value_counts()"
   ]
  },
  {
   "cell_type": "markdown",
   "id": "463d0836",
   "metadata": {},
   "source": [
    "Some notes / questions\n",
    "1. For categories, what does the academic support category look like? Can reading & writing, social studies, science, science/math be included in academic support or should they be kept separate?\n"
   ]
  },
  {
   "cell_type": "code",
   "execution_count": 160,
   "id": "fe1282e7",
   "metadata": {},
   "outputs": [
    {
     "data": {
      "text/plain": [
       "Free             27362\n",
       "$50 or Less      23771\n",
       "More Than $50     7004\n",
       "Unknown           3524\n",
       "Name: program_price, dtype: int64"
      ]
     },
     "execution_count": 160,
     "metadata": {},
     "output_type": "execute_result"
    }
   ],
   "source": [
    "df.program_price.value_counts()"
   ]
  },
  {
   "cell_type": "code",
   "execution_count": 181,
   "id": "7ea6f663",
   "metadata": {},
   "outputs": [],
   "source": [
    "program_price_grouped = df.groupby(['program_price', 'category_name'], dropna = False)"
   ]
  },
  {
   "cell_type": "code",
   "execution_count": 182,
   "id": "cc6f7ccc",
   "metadata": {},
   "outputs": [
    {
     "data": {
      "text/plain": [
       "program_price  category_name           \n",
       "$50 or Less    Academic Support             559\n",
       "               Building & Fixing Things     237\n",
       "               Computers.                     6\n",
       "               Customer/Human Service         2\n",
       "               Digital Media.                38\n",
       "                                           ... \n",
       "Unknown        Music & Art.                  85\n",
       "               Nature.                       12\n",
       "               Reading & Writing.             2\n",
       "               Science                        3\n",
       "               Sports + Wellness.          3408\n",
       "Length: 61, dtype: int64"
      ]
     },
     "execution_count": 182,
     "metadata": {},
     "output_type": "execute_result"
    }
   ],
   "source": [
    "program_price_grouped.size()"
   ]
  },
  {
   "cell_type": "code",
   "execution_count": 186,
   "id": "b47763cc",
   "metadata": {},
   "outputs": [],
   "source": [
    "pivot_table = program_price_grouped.size().unstack('category_name')"
   ]
  },
  {
   "cell_type": "code",
   "execution_count": 187,
   "id": "89732c5c",
   "metadata": {
    "scrolled": false
   },
   "outputs": [
    {
     "data": {
      "text/html": [
       "<div>\n",
       "<style scoped>\n",
       "    .dataframe tbody tr th:only-of-type {\n",
       "        vertical-align: middle;\n",
       "    }\n",
       "\n",
       "    .dataframe tbody tr th {\n",
       "        vertical-align: top;\n",
       "    }\n",
       "\n",
       "    .dataframe thead th {\n",
       "        text-align: right;\n",
       "    }\n",
       "</style>\n",
       "<table border=\"1\" class=\"dataframe\">\n",
       "  <thead>\n",
       "    <tr style=\"text-align: right;\">\n",
       "      <th>category_name</th>\n",
       "      <th>Academic Support</th>\n",
       "      <th>Building &amp; Fixing Things</th>\n",
       "      <th>Computers.</th>\n",
       "      <th>Customer/Human Service</th>\n",
       "      <th>Digital Media.</th>\n",
       "      <th>Food.</th>\n",
       "      <th>Healthcare</th>\n",
       "      <th>Helping Your Community.</th>\n",
       "      <th>Law</th>\n",
       "      <th>Managing Money.</th>\n",
       "      <th>...</th>\n",
       "      <th>Nature.</th>\n",
       "      <th>Performance.</th>\n",
       "      <th>Reading &amp; Writing.</th>\n",
       "      <th>Science</th>\n",
       "      <th>Science &amp; Math</th>\n",
       "      <th>Social Studies</th>\n",
       "      <th>Sports + Wellness.</th>\n",
       "      <th>Teaching</th>\n",
       "      <th>Transportation</th>\n",
       "      <th>Work + Career</th>\n",
       "    </tr>\n",
       "    <tr>\n",
       "      <th>program_price</th>\n",
       "      <th></th>\n",
       "      <th></th>\n",
       "      <th></th>\n",
       "      <th></th>\n",
       "      <th></th>\n",
       "      <th></th>\n",
       "      <th></th>\n",
       "      <th></th>\n",
       "      <th></th>\n",
       "      <th></th>\n",
       "      <th></th>\n",
       "      <th></th>\n",
       "      <th></th>\n",
       "      <th></th>\n",
       "      <th></th>\n",
       "      <th></th>\n",
       "      <th></th>\n",
       "      <th></th>\n",
       "      <th></th>\n",
       "      <th></th>\n",
       "      <th></th>\n",
       "    </tr>\n",
       "  </thead>\n",
       "  <tbody>\n",
       "    <tr>\n",
       "      <th>$50 or Less</th>\n",
       "      <td>559.0</td>\n",
       "      <td>237.0</td>\n",
       "      <td>6.0</td>\n",
       "      <td>2.0</td>\n",
       "      <td>38.0</td>\n",
       "      <td>43.0</td>\n",
       "      <td>51.0</td>\n",
       "      <td>5.0</td>\n",
       "      <td>NaN</td>\n",
       "      <td>NaN</td>\n",
       "      <td>...</td>\n",
       "      <td>222.0</td>\n",
       "      <td>95.0</td>\n",
       "      <td>109.0</td>\n",
       "      <td>208.0</td>\n",
       "      <td>NaN</td>\n",
       "      <td>1.0</td>\n",
       "      <td>18907.0</td>\n",
       "      <td>2.0</td>\n",
       "      <td>1.0</td>\n",
       "      <td>1.0</td>\n",
       "    </tr>\n",
       "    <tr>\n",
       "      <th>Free</th>\n",
       "      <td>575.0</td>\n",
       "      <td>706.0</td>\n",
       "      <td>759.0</td>\n",
       "      <td>29.0</td>\n",
       "      <td>52.0</td>\n",
       "      <td>287.0</td>\n",
       "      <td>276.0</td>\n",
       "      <td>384.0</td>\n",
       "      <td>2.0</td>\n",
       "      <td>235.0</td>\n",
       "      <td>...</td>\n",
       "      <td>388.0</td>\n",
       "      <td>258.0</td>\n",
       "      <td>4218.0</td>\n",
       "      <td>816.0</td>\n",
       "      <td>1.0</td>\n",
       "      <td>115.0</td>\n",
       "      <td>6916.0</td>\n",
       "      <td>3.0</td>\n",
       "      <td>6.0</td>\n",
       "      <td>211.0</td>\n",
       "    </tr>\n",
       "    <tr>\n",
       "      <th>More Than $50</th>\n",
       "      <td>611.0</td>\n",
       "      <td>81.0</td>\n",
       "      <td>13.0</td>\n",
       "      <td>NaN</td>\n",
       "      <td>NaN</td>\n",
       "      <td>NaN</td>\n",
       "      <td>13.0</td>\n",
       "      <td>6.0</td>\n",
       "      <td>NaN</td>\n",
       "      <td>NaN</td>\n",
       "      <td>...</td>\n",
       "      <td>30.0</td>\n",
       "      <td>77.0</td>\n",
       "      <td>7.0</td>\n",
       "      <td>17.0</td>\n",
       "      <td>NaN</td>\n",
       "      <td>NaN</td>\n",
       "      <td>5286.0</td>\n",
       "      <td>1.0</td>\n",
       "      <td>NaN</td>\n",
       "      <td>4.0</td>\n",
       "    </tr>\n",
       "    <tr>\n",
       "      <th>Unknown</th>\n",
       "      <td>NaN</td>\n",
       "      <td>14.0</td>\n",
       "      <td>NaN</td>\n",
       "      <td>NaN</td>\n",
       "      <td>NaN</td>\n",
       "      <td>NaN</td>\n",
       "      <td>NaN</td>\n",
       "      <td>NaN</td>\n",
       "      <td>NaN</td>\n",
       "      <td>NaN</td>\n",
       "      <td>...</td>\n",
       "      <td>12.0</td>\n",
       "      <td>NaN</td>\n",
       "      <td>2.0</td>\n",
       "      <td>3.0</td>\n",
       "      <td>NaN</td>\n",
       "      <td>NaN</td>\n",
       "      <td>3408.0</td>\n",
       "      <td>NaN</td>\n",
       "      <td>NaN</td>\n",
       "      <td>NaN</td>\n",
       "    </tr>\n",
       "  </tbody>\n",
       "</table>\n",
       "<p>4 rows × 22 columns</p>\n",
       "</div>"
      ],
      "text/plain": [
       "category_name  Academic Support  Building & Fixing Things  Computers.  \\\n",
       "program_price                                                           \n",
       "$50 or Less               559.0                     237.0         6.0   \n",
       "Free                      575.0                     706.0       759.0   \n",
       "More Than $50             611.0                      81.0        13.0   \n",
       "Unknown                     NaN                      14.0         NaN   \n",
       "\n",
       "category_name  Customer/Human Service  Digital Media.  Food.  Healthcare  \\\n",
       "program_price                                                              \n",
       "$50 or Less                       2.0            38.0   43.0        51.0   \n",
       "Free                             29.0            52.0  287.0       276.0   \n",
       "More Than $50                     NaN             NaN    NaN        13.0   \n",
       "Unknown                           NaN             NaN    NaN         NaN   \n",
       "\n",
       "category_name  Helping Your Community.  Law  Managing Money.  ...  Nature.  \\\n",
       "program_price                                                 ...            \n",
       "$50 or Less                        5.0  NaN              NaN  ...    222.0   \n",
       "Free                             384.0  2.0            235.0  ...    388.0   \n",
       "More Than $50                      6.0  NaN              NaN  ...     30.0   \n",
       "Unknown                            NaN  NaN              NaN  ...     12.0   \n",
       "\n",
       "category_name  Performance.  Reading & Writing.  Science  Science & Math  \\\n",
       "program_price                                                              \n",
       "$50 or Less            95.0               109.0    208.0             NaN   \n",
       "Free                  258.0              4218.0    816.0             1.0   \n",
       "More Than $50          77.0                 7.0     17.0             NaN   \n",
       "Unknown                 NaN                 2.0      3.0             NaN   \n",
       "\n",
       "category_name  Social Studies  Sports + Wellness.  Teaching  Transportation  \\\n",
       "program_price                                                                 \n",
       "$50 or Less               1.0             18907.0       2.0             1.0   \n",
       "Free                    115.0              6916.0       3.0             6.0   \n",
       "More Than $50             NaN              5286.0       1.0             NaN   \n",
       "Unknown                   NaN              3408.0       NaN             NaN   \n",
       "\n",
       "category_name  Work + Career  \n",
       "program_price                 \n",
       "$50 or Less              1.0  \n",
       "Free                   211.0  \n",
       "More Than $50            4.0  \n",
       "Unknown                  NaN  \n",
       "\n",
       "[4 rows x 22 columns]"
      ]
     },
     "execution_count": 187,
     "metadata": {},
     "output_type": "execute_result"
    }
   ],
   "source": [
    "pivot_table"
   ]
  },
  {
   "cell_type": "markdown",
   "id": "4b7b87c0",
   "metadata": {},
   "source": [
    "### Max Age – >= 25 should be family event"
   ]
  },
  {
   "cell_type": "code",
   "execution_count": 81,
   "id": "a4e13afe",
   "metadata": {},
   "outputs": [],
   "source": [
    "df_young = df.loc[df['max_age'] < 25]"
   ]
  },
  {
   "cell_type": "code",
   "execution_count": 82,
   "id": "59742bb6",
   "metadata": {
    "scrolled": false
   },
   "outputs": [
    {
     "data": {
      "text/plain": [
       "(44830, 39)"
      ]
     },
     "execution_count": 82,
     "metadata": {},
     "output_type": "execute_result"
    }
   ],
   "source": [
    "df_young.shape"
   ]
  },
  {
   "cell_type": "code",
   "execution_count": 83,
   "id": "96ff377e",
   "metadata": {},
   "outputs": [
    {
     "name": "stdout",
     "output_type": "stream",
     "text": [
      "41012\n"
     ]
    }
   ],
   "source": [
    "# find the number of unique values in 'program_id'\n",
    "unique_values = df_young['program_id'].nunique()\n",
    "\n",
    "# print the result\n",
    "print(unique_values)"
   ]
  },
  {
   "cell_type": "code",
   "execution_count": 21,
   "id": "d356ae18",
   "metadata": {},
   "outputs": [
    {
     "data": {
      "text/plain": [
       "Sports + Wellness.          22529\n",
       "Music & Art.                11388\n",
       "Reading & Writing.           5145\n",
       "Academic Support             1593\n",
       "Science                       840\n",
       "Building & Fixing Things      651\n",
       "Computers.                    547\n",
       "Nature.                       402\n",
       "Helping Your Community.       378\n",
       "Food.                         326\n",
       "Performance.                  297\n",
       "Work + Career                 242\n",
       "Healthcare                    230\n",
       "Digital Media.                118\n",
       "Managing Money.                39\n",
       "Social Studies                 30\n",
       "Customer/Human Service         29\n",
       "Math                           28\n",
       "Transportation                  7\n",
       "Teaching                        5\n",
       "Law                             2\n",
       "Computers                       1\n",
       "Science & Math                  1\n",
       "Name: category_name, dtype: int64"
      ]
     },
     "execution_count": 21,
     "metadata": {},
     "output_type": "execute_result"
    }
   ],
   "source": [
    "df_young.category_name.value_counts()"
   ]
  },
  {
   "cell_type": "markdown",
   "id": "1cd7ea0a",
   "metadata": {},
   "source": [
    "## VISUALIZATIONS"
   ]
  },
  {
   "cell_type": "markdown",
   "id": "367db87f",
   "metadata": {},
   "source": [
    "### Meeting Types"
   ]
  },
  {
   "cell_type": "code",
   "execution_count": 19,
   "id": "dc864ebe",
   "metadata": {
    "scrolled": true
   },
   "outputs": [
    {
     "data": {
      "image/png": "[encoded data removed]",
      "text/plain": [
       "<Figure size 432x288 with 1 Axes>"
      ]
     },
     "metadata": {
      "needs_background": "light"
     },
     "output_type": "display_data"
    }
   ],
   "source": [
    "# Count based on meeting types\n",
    "sns.countplot(x='meeting_type', data=df)\n",
    "plt.show()"
   ]
  },
  {
   "cell_type": "markdown",
   "id": "359130d3",
   "metadata": {},
   "source": [
    "### Top Categories"
   ]
  },
  {
   "cell_type": "code",
   "execution_count": 84,
   "id": "db0484f7",
   "metadata": {
    "scrolled": false
   },
   "outputs": [
    {
     "data": {
      "text/plain": [
       "Sports + Wellness.    22529\n",
       "Music & Art.          11388\n",
       "Reading & Writing.     5145\n",
       "Academic Support       1593\n",
       "Science                 841\n",
       "Name: category_name, dtype: int64"
      ]
     },
     "execution_count": 84,
     "metadata": {},
     "output_type": "execute_result"
    }
   ],
   "source": [
    "df_young['category_name'].value_counts().head(5)"
   ]
  },
  {
   "cell_type": "code",
   "execution_count": 85,
   "id": "d2802443",
   "metadata": {
    "scrolled": true
   },
   "outputs": [],
   "source": [
    "# Create a new DataFrame from the top 5 values\n",
    "df_top_5 = pd.DataFrame({'column_name': df_young['category_name'].value_counts().head(5).index, 'count': df_young['category_name'].value_counts().head(5).values})\n"
   ]
  },
  {
   "cell_type": "code",
   "execution_count": 86,
   "id": "e8680be7",
   "metadata": {},
   "outputs": [
    {
     "data": {
      "image/png": "[encoded data removed]",
      "text/plain": [
       "<Figure size 1000x500 with 1 Axes>"
      ]
     },
     "metadata": {},
     "output_type": "display_data"
    }
   ],
   "source": [
    "# Count based on category name\n",
    "sns.set_style(\"darkgrid\")\n",
    "plt.figure(figsize=(10, 5))\n",
    "sns.barplot(x='column_name', y = 'count', data = df_top_5)\n",
    "plt.xlabel('Categories')\n",
    "plt.ylabel('Number of Programs')\n",
    "plt.title('Top Five Program Categories for Youth')\n",
    "plt.show()"
   ]
  },
  {
   "cell_type": "markdown",
   "id": "1962591e",
   "metadata": {},
   "source": [
    "## Binning Data"
   ]
  },
  {
   "cell_type": "code",
   "execution_count": 97,
   "id": "48f4eb2f",
   "metadata": {},
   "outputs": [
    {
     "name": "stderr",
     "output_type": "stream",
     "text": [
      "/var/folders/8n/jcf8jkgd07q33yx5hgq1969r0000gn/T/ipykernel_93018/1598739233.py:1: SettingWithCopyWarning: \n",
      "A value is trying to be set on a copy of a slice from a DataFrame.\n",
      "Try using .loc[row_indexer,col_indexer] = value instead\n",
      "\n",
      "See the caveats in the documentation: https://pandas.pydata.org/pandas-docs/stable/user_guide/indexing.html#returning-a-view-versus-a-copy\n",
      "  df_young['age_binned'] = pd.qcut(df_young['max_age'], q=5, labels=['(0-5]', '(5-10]', '(10-15]', '(15-20]', '(20-24]'])\n"
     ]
    }
   ],
   "source": [
    "df_young['age_binned'] = pd.qcut(df_young['max_age'], q=5, labels=['(0-5]', '(5-10]', '(10-15]', '(15-20]', '(20-24]'])"
   ]
  },
  {
   "cell_type": "code",
   "execution_count": 101,
   "id": "67dc5b4a",
   "metadata": {},
   "outputs": [
    {
     "data": {
      "text/plain": [
       "Text(0.5, 1.0, 'No. of Programs Available per Age Group')"
      ]
     },
     "execution_count": 101,
     "metadata": {},
     "output_type": "execute_result"
    },
    {
     "data": {
      "image/png": "[encoded data removed]",
      "text/plain": [
       "<Figure size 1000x500 with 1 Axes>"
      ]
     },
     "metadata": {},
     "output_type": "display_data"
    }
   ],
   "source": [
    "age_count = df_young['age_binned'].value_counts()\n",
    "plt.figure(figsize=(10, 5))\n",
    "\n",
    "age_count.plot(kind='bar', color=sns.color_palette('Blues', len(age_count)))\n",
    "plt.xlabel('Age')\n",
    "plt.ylabel('No. of Programs')\n",
    "plt.title('No. of Programs Available per Age Group')"
   ]
  },
  {
   "cell_type": "markdown",
   "id": "e8dfbd74",
   "metadata": {},
   "source": [
    "### Top Categories per Age Group"
   ]
  },
  {
   "cell_type": "code",
   "execution_count": 115,
   "id": "2231957c",
   "metadata": {},
   "outputs": [],
   "source": [
    "# Creating separate dataframes per age group \n",
    "df_0_5 = df_young.loc[df_young['age_binned'] == '(0-5]'] \n",
    "df_5_10 = df_young.loc[df_young['age_binned'] == '(5-10]'] \n",
    "df_10_15 = df_young.loc[df_young['age_binned'] == '(10-15]'] \n",
    "df_15_20 = df_young.loc[df_young['age_binned'] == '(15-20]'] \n",
    "df_20_24 = df_young.loc[df_young['age_binned'] == '(20-24]'] \n"
   ]
  },
  {
   "cell_type": "code",
   "execution_count": 109,
   "id": "b4cb3566",
   "metadata": {},
   "outputs": [
    {
     "data": {
      "image/png": "[encoded data removed]",
      "text/plain": [
       "<Figure size 1000x500 with 1 Axes>"
      ]
     },
     "metadata": {},
     "output_type": "display_data"
    }
   ],
   "source": [
    "# 0 to 5\n",
    "top_0_5 = pd.DataFrame({'column_name': df_0_5['category_name'].value_counts().head(5).index, \n",
    "                         'count': df_0_5['category_name'].value_counts().head(5).values})\n",
    "# Count based on category name\n",
    "sns.set_style(\"darkgrid\")\n",
    "plt.figure(figsize=(10, 5))\n",
    "sns.barplot(x='column_name', y = 'count', data = top_0_5, palette = 'Blues')\n",
    "\n",
    "plt.xlabel('Categories')\n",
    "plt.ylabel('Number of Programs')\n",
    "plt.title('Top Five Program Categories for Maximum Age 0-5')\n",
    "plt.show()"
   ]
  },
  {
   "cell_type": "code",
   "execution_count": 111,
   "id": "f5bb463c",
   "metadata": {},
   "outputs": [
    {
     "data": {
      "image/png": "[encoded data removed]",
      "text/plain": [
       "<Figure size 1000x500 with 1 Axes>"
      ]
     },
     "metadata": {},
     "output_type": "display_data"
    }
   ],
   "source": [
    "# 5 to 10\n",
    "top_5_10 = pd.DataFrame({'column_name': df_5_10['category_name'].value_counts().head(5).index, \n",
    "                         'count': df_5_10['category_name'].value_counts().head(5).values})\n",
    "# Count based on category name\n",
    "sns.set_style(\"darkgrid\")\n",
    "plt.figure(figsize=(10, 5))\n",
    "sns.barplot(x='column_name', y = 'count', data = top_5_10, palette = 'Blues')\n",
    "plt.xlabel('Categories')\n",
    "plt.ylabel('Number of Programs')\n",
    "plt.title('Top Five Program Categories for Maximum Age 5-10')\n",
    "plt.show()"
   ]
  },
  {
   "cell_type": "code",
   "execution_count": 112,
   "id": "595301ce",
   "metadata": {},
   "outputs": [
    {
     "data": {
      "image/png": "[encoded data removed]",
      "text/plain": [
       "<Figure size 1000x500 with 1 Axes>"
      ]
     },
     "metadata": {},
     "output_type": "display_data"
    }
   ],
   "source": [
    "# 10 to 15\n",
    "top_10_15 = pd.DataFrame({'column_name': df_10_15['category_name'].value_counts().head(5).index, \n",
    "                         'count': df_10_15['category_name'].value_counts().head(5).values})\n",
    "# Count based on category name\n",
    "sns.set_style(\"darkgrid\")\n",
    "plt.figure(figsize=(10, 5))\n",
    "sns.barplot(x='column_name', y = 'count', data = top_10_15, palette = 'Blues')\n",
    "plt.xlabel('Categories')\n",
    "plt.ylabel('Number of Programs')\n",
    "plt.title('Top Five Program Categories for Maximum Age 10-15')\n",
    "plt.show()"
   ]
  },
  {
   "cell_type": "code",
   "execution_count": 113,
   "id": "18fe5bcf",
   "metadata": {},
   "outputs": [
    {
     "data": {
      "image/png": "[encoded data removed]",
      "text/plain": [
       "<Figure size 1000x500 with 1 Axes>"
      ]
     },
     "metadata": {},
     "output_type": "display_data"
    }
   ],
   "source": [
    "# 5 to 10\n",
    "top_15_20 = pd.DataFrame({'column_name': df_15_20['category_name'].value_counts().head(5).index, \n",
    "                         'count': df_15_20['category_name'].value_counts().head(5).values})\n",
    "# Count based on category name\n",
    "sns.set_style(\"darkgrid\")\n",
    "plt.figure(figsize=(10, 5))\n",
    "sns.barplot(x='column_name', y = 'count', data = top_15_20, palette = 'Blues')\n",
    "plt.xlabel('Categories')\n",
    "plt.ylabel('Number of Programs')\n",
    "plt.title('Top Five Program Categories for Maximum Age 15-20')\n",
    "plt.show()"
   ]
  },
  {
   "cell_type": "code",
   "execution_count": 116,
   "id": "383c416b",
   "metadata": {},
   "outputs": [
    {
     "data": {
      "image/png": "[encoded data removed]",
      "text/plain": [
       "<Figure size 1000x500 with 1 Axes>"
      ]
     },
     "metadata": {},
     "output_type": "display_data"
    }
   ],
   "source": [
    "# 20 to 24\n",
    "top_20_24 = pd.DataFrame({'column_name': df_20_24['category_name'].value_counts().head(5).index, \n",
    "                         'count': df_20_24['category_name'].value_counts().head(5).values})\n",
    "# Count based on category name\n",
    "sns.set_style(\"darkgrid\")\n",
    "plt.figure(figsize=(10, 5))\n",
    "sns.barplot(x='column_name', y = 'count', data = top_20_24, palette = 'Blues')\n",
    "plt.xlabel('Categories')\n",
    "plt.ylabel('Number of Programs')\n",
    "plt.title('Top Five Program Categories for Maximum Age 20-24')\n",
    "plt.show()"
   ]
  },
  {
   "cell_type": "code",
   "execution_count": null,
   "id": "2d918f88",
   "metadata": {},
   "outputs": [],
   "source": []
  }
 ],
 "metadata": {
  "kernelspec": {
   "display_name": "Python 3 (ipykernel)",
   "language": "python",
   "name": "python3"
  },
  "language_info": {
   "codemirror_mode": {
    "name": "ipython",
    "version": 3
   },
   "file_extension": ".py",
   "mimetype": "text/x-python",
   "name": "python",
   "nbconvert_exporter": "python",
   "pygments_lexer": "ipython3",
   "version": "3.8.8"
  }
 },
 "nbformat": 4,
 "nbformat_minor": 5
}
