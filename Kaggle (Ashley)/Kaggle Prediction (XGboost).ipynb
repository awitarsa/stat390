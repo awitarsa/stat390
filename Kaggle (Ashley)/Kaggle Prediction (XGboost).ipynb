{
 "cells": [
  {
   "cell_type": "code",
   "execution_count": 2,
   "id": "0f5630b0",
   "metadata": {},
   "outputs": [],
   "source": [
    "import pandas as pd\n",
    "import numpy as np\n",
    "import seaborn as sns\n",
    "import matplotlib.pyplot as plt\n",
    "from sklearn.metrics import mean_squared_error\n",
    "from sklearn.model_selection import cross_val_score,train_test_split\n",
    "from sklearn.metrics import mean_squared_error,r2_score,roc_curve,auc,precision_recall_curve\n",
    "from sklearn.model_selection import KFold\n",
    "from sklearn.tree import DecisionTreeRegressor,DecisionTreeClassifier\n",
    "from sklearn.model_selection import GridSearchCV, ParameterGrid, StratifiedKFold\n",
    "from sklearn.ensemble import VotingRegressor, VotingClassifier, StackingRegressor, StackingClassifier, GradientBoostingRegressor,GradientBoostingClassifier, BaggingRegressor,BaggingClassifier,RandomForestRegressor,RandomForestClassifier,AdaBoostRegressor,AdaBoostClassifier\n",
    "from sklearn.linear_model import LinearRegression,LogisticRegression, LassoCV, RidgeCV, ElasticNetCV\n",
    "from sklearn.neighbors import KNeighborsRegressor\n",
    "import itertools as it\n",
    "import time as time\n",
    "import xgboost as xgb\n",
    "from pyearth import Earth"
   ]
  },
  {
   "cell_type": "code",
   "execution_count": 3,
   "id": "e11de325",
   "metadata": {},
   "outputs": [],
   "source": [
    "train = pd.read_csv('train.csv')\n",
    "test = pd.read_csv('test.csv')\n",
    "nan_cols = test.isna().sum()\n",
    "test1 = test.drop(nan_cols[nan_cols > 269].index.tolist(), axis = 1)\n",
    "train1 = train.drop(nan_cols[nan_cols > 269].index.tolist(), axis = 1)"
   ]
  },
  {
   "cell_type": "code",
   "execution_count": 4,
   "id": "df4d2534",
   "metadata": {},
   "outputs": [],
   "source": [
    "from sklearn.impute import KNNImputer\n",
    "\n",
    "imputer = KNNImputer(n_neighbors=3)\n",
    "\n",
    "# fit and transform the data\n",
    "test_imputed = pd.DataFrame(imputer.fit_transform(test1), columns=test1.columns)\n",
    "train_imputed = pd.DataFrame(imputer.fit_transform(train1), columns=train1.columns)"
   ]
  },
  {
   "cell_type": "code",
   "execution_count": 5,
   "id": "efe29a7d",
   "metadata": {},
   "outputs": [],
   "source": [
    "corr_matrix = train_imputed.corr().abs()"
   ]
  },
  {
   "cell_type": "code",
   "execution_count": 6,
   "id": "bd7556d6",
   "metadata": {},
   "outputs": [],
   "source": [
    "corr_y = train_imputed.corrwith(train_imputed['y'])\n",
    "train_imputed.drop(corr_y[corr_y.isna()].index.tolist(), axis = 1, inplace = True)\n",
    "test_imputed.drop(corr_y[corr_y.isna()].index.tolist(), axis = 1, inplace = True)"
   ]
  },
  {
   "cell_type": "code",
   "execution_count": 7,
   "id": "d621d73f",
   "metadata": {},
   "outputs": [],
   "source": [
    "# identify predictors that have correlation of >0.7\n",
    "indices = np.where(np.triu(corr_matrix > 0.7, k=1))\n",
    "\n",
    "# print the pairs of columns that have a correlation > 0.7\n",
    "high_corr = []\n",
    "count = 0\n",
    "for idx in range(len(indices[0])):\n",
    "    col1 = corr_matrix.columns[indices[0][idx]]\n",
    "    col2 = corr_matrix.columns[indices[1][idx]]\n",
    "    high_corr.append(col1)\n",
    "    count+=1\n",
    "    #print(f\"{col1} and {col2}\")\n",
    "#print(count)"
   ]
  },
  {
   "cell_type": "code",
   "execution_count": 8,
   "id": "91922b0e",
   "metadata": {},
   "outputs": [],
   "source": [
    "unique_vals = set(high_corr)\n",
    "train_imputed = train_imputed.drop(unique_vals, axis = 1)"
   ]
  },
  {
   "cell_type": "code",
   "execution_count": 9,
   "id": "30b71e8b",
   "metadata": {},
   "outputs": [],
   "source": [
    "test_col = train_imputed.drop('y', axis = 1)\n",
    "test_imputed = test_imputed[test_col.columns]"
   ]
  },
  {
   "cell_type": "code",
   "execution_count": 12,
   "id": "4783a685",
   "metadata": {},
   "outputs": [],
   "source": [
    "corr_y = train_imputed.corrwith(train_imputed['y'])\n",
    "top_30 = corr_y.abs().sort_values(ascending = False)[1:31]"
   ]
  },
  {
   "cell_type": "code",
   "execution_count": 13,
   "id": "632f6d1d",
   "metadata": {
    "scrolled": true
   },
   "outputs": [
    {
     "data": {
      "text/plain": [
       "Index(['x755', 'x756', 'x685', 'x724', 'x662', 'x447', 'x734', 'x684', 'x710',\n",
       "       'x111', 'x274', 'x740', 'x716', 'x718', 'x400', 'x745', 'x680', 'x750',\n",
       "       'x634', 'x741', 'x500', 'x723', 'x699', 'x473', 'x211', 'x043', 'x395',\n",
       "       'x736', 'x623', 'x693'],\n",
       "      dtype='object')"
      ]
     },
     "execution_count": 13,
     "metadata": {},
     "output_type": "execute_result"
    }
   ],
   "source": [
    "top_30.index"
   ]
  },
  {
   "cell_type": "code",
   "execution_count": 14,
   "id": "c4f58a43",
   "metadata": {},
   "outputs": [],
   "source": [
    "X = train_imputed[top_30.index.tolist()]\n",
    "y = train_imputed.y\n",
    "X_test = test_imputed[top_30.index.tolist()]"
   ]
  },
  {
   "cell_type": "code",
   "execution_count": 15,
   "id": "5b6924e1",
   "metadata": {},
   "outputs": [],
   "source": [
    "### No. of trees vs. cross validation error"
   ]
  },
  {
   "cell_type": "code",
   "execution_count": 14,
   "id": "b8c18204",
   "metadata": {},
   "outputs": [
    {
     "name": "stdout",
     "output_type": "stream",
     "text": [
      ">5 10.621 (0.584)\n",
      ">10 10.543 (0.486)\n",
      ">50 10.794 (0.487)\n",
      ">100 10.901 (0.471)\n",
      ">500 10.965 (0.484)\n",
      ">1000 10.965 (0.485)\n",
      ">2000 10.965 (0.485)\n",
      ">5000 10.965 (0.485)\n"
     ]
    },
    {
     "data": {
      "text/plain": [
       "Text(0.5, 0, 'Number of trees')"
      ]
     },
     "execution_count": 14,
     "metadata": {},
     "output_type": "execute_result"
    },
    {
     "data": {
      "image/png": "[encoded data removed]",
      "text/plain": [
       "<Figure size 640x480 with 1 Axes>"
      ]
     },
     "metadata": {},
     "output_type": "display_data"
    }
   ],
   "source": [
    "def get_models():\n",
    "    models = dict()\n",
    "    # define number of trees to consider\n",
    "    n_trees = [5, 10, 50, 100, 500, 1000, 2000, 5000]\n",
    "    for n in n_trees:\n",
    "        models[str(n)] = xgb.XGBRegressor(n_estimators=n,random_state=1)\n",
    "    return models\n",
    "\n",
    "# evaluate a given model using cross-validation\n",
    "def evaluate_model(model, X, y):\n",
    "    # define the evaluation procedure\n",
    "    cv = KFold(n_splits=5, shuffle=True, random_state=1)\n",
    "    # evaluate the model and collect the results\n",
    "    scores = np.sqrt(-cross_val_score(model, X, y, scoring='neg_mean_squared_error', cv=cv, n_jobs=-1))\n",
    "    return scores\n",
    "\n",
    "# get the models to evaluate\n",
    "models = get_models()\n",
    "# evaluate the models and store results\n",
    "results, names = list(), list()\n",
    "for name, model in models.items():\n",
    "    # evaluate the model\n",
    "    scores = evaluate_model(model, X, y)\n",
    "    # store the results\n",
    "    results.append(scores)\n",
    "    names.append(name)\n",
    "    # summarize the performance along the way\n",
    "    print('>%s %.3f (%.3f)' % (name, np.mean(scores), np.std(scores)))\n",
    "# plot model performance for comparison\n",
    "plt.boxplot(results, labels=names, showmeans=True)\n",
    "plt.ylabel('Cross validation error',fontsize=15)\n",
    "plt.xlabel('Number of trees',fontsize=15)"
   ]
  },
  {
   "cell_type": "markdown",
   "id": "64cf2b85",
   "metadata": {},
   "source": [
    "### Learning rate vs. cross validation error"
   ]
  },
  {
   "cell_type": "code",
   "execution_count": 17,
   "id": "51d99c3c",
   "metadata": {},
   "outputs": [
    {
     "name": "stdout",
     "output_type": "stream",
     "text": [
      ">0.0100 10.9 (1.6)\n",
      ">0.0500 10.2 (1.3)\n",
      ">0.1000 10.3 (1.3)\n",
      ">0.2000 10.5 (1.3)\n",
      ">0.3000 10.7 (1.1)\n",
      ">0.4000 11.2 (1.2)\n",
      ">0.5000 11.6 (1.2)\n",
      ">0.6000 11.8 (1.0)\n",
      ">0.8000 12.3 (1.0)\n",
      ">1.0000 13.5 (0.9)\n"
     ]
    },
    {
     "data": {
      "text/plain": [
       "Text(0.5, 0, 'Learning rate')"
      ]
     },
     "execution_count": 17,
     "metadata": {},
     "output_type": "execute_result"
    },
    {
     "data": {
      "image/png": "[encoded data removed]",
      "text/plain": [
       "<Figure size 700x700 with 1 Axes>"
      ]
     },
     "metadata": {},
     "output_type": "display_data"
    }
   ],
   "source": [
    "def get_models():\n",
    "    models = dict()\n",
    "    # explore learning rates from 0.1 to 2 in 0.1 increments\n",
    "    for i in [0.01,0.05,0.1,0.2,0.3,0.4,0.5,0.6,0.8,1.0]:\n",
    "        key = '%.4f' % i\n",
    "        models[key] = xgb.XGBRegressor(learning_rate=i,random_state=1)\n",
    "    return models\n",
    "\n",
    "# evaluate a given model using cross-validation\n",
    "def evaluate_model(model, X, y):\n",
    "    # define the evaluation procedure\n",
    "    cv = KFold(n_splits=10, shuffle=True, random_state=1)\n",
    "    # evaluate the model and collect the results\n",
    "    scores = np.sqrt(-cross_val_score(model, X, y, scoring='neg_mean_squared_error', cv=cv, n_jobs=-1))\n",
    "    return scores\n",
    "\n",
    "# get the models to evaluate\n",
    "models = get_models()\n",
    "# evaluate the models and store results\n",
    "results, names = list(), list()\n",
    "for name, model in models.items():\n",
    "    # evaluate the model\n",
    "    scores = evaluate_model(model, X, y)\n",
    "    # store the results\n",
    "    results.append(scores)\n",
    "    names.append(name)\n",
    "    # summarize the performance along the way\n",
    "    print('>%s %.1f (%.1f)' % (name, np.mean(scores), np.std(scores)))\n",
    "# plot model performance for comparison\n",
    "plt.figure(figsize=(7, 7))\n",
    "plt.boxplot(results, labels=names, showmeans=True)\n",
    "plt.ylabel('Cross validation error',fontsize=15)\n",
    "plt.xlabel('Learning rate',fontsize=15)"
   ]
  },
  {
   "cell_type": "markdown",
   "id": "791b49b8",
   "metadata": {},
   "source": [
    "### Regularization vs. cross validation error "
   ]
  },
  {
   "cell_type": "code",
   "execution_count": 18,
   "id": "58486b79",
   "metadata": {},
   "outputs": [
    {
     "name": "stdout",
     "output_type": "stream",
     "text": [
      ">0.0000 11.2 (1.1)\n",
      ">0.5000 10.9 (1.0)\n",
      ">1.0000 10.7 (1.1)\n",
      ">1.5000 10.7 (1.2)\n",
      ">2.0000 10.6 (1.4)\n",
      ">10.0000 10.7 (1.3)\n",
      ">100.0000 10.5 (1.2)\n"
     ]
    },
    {
     "data": {
      "text/plain": [
       "Text(0.5, 0, 'reg_lambda')"
      ]
     },
     "execution_count": 18,
     "metadata": {},
     "output_type": "execute_result"
    },
    {
     "data": {
      "image/png": "[encoded data removed]",
      "text/plain": [
       "<Figure size 700x700 with 1 Axes>"
      ]
     },
     "metadata": {},
     "output_type": "display_data"
    }
   ],
   "source": [
    "def get_models():\n",
    "    models = dict()\n",
    "    # explore learning rates from 0.1 to 2 in 0.1 increments\n",
    "    for i in [0,0.5,1.0,1.5,2,10,100]:\n",
    "        key = '%.4f' % i\n",
    "        models[key] = xgb.XGBRegressor(reg_lambda=i,random_state=1)\n",
    "    return models\n",
    "\n",
    "# evaluate a given model using cross-validation\n",
    "def evaluate_model(model, X, y):\n",
    "    # define the evaluation procedure\n",
    "    cv = KFold(n_splits=10, shuffle=True, random_state=1)\n",
    "    # evaluate the model and collect the results\n",
    "    scores = np.sqrt(-cross_val_score(model, X, y, scoring='neg_mean_squared_error', cv=cv, n_jobs=-1))\n",
    "    return scores\n",
    "\n",
    "# get the models to evaluate\n",
    "models = get_models()\n",
    "# evaluate the models and store results\n",
    "results, names = list(), list()\n",
    "for name, model in models.items():\n",
    "    # evaluate the model\n",
    "    scores = evaluate_model(model, X, y)\n",
    "    # store the results\n",
    "    results.append(scores)\n",
    "    names.append(name)\n",
    "    # summarize the performance along the way\n",
    "    print('>%s %.1f (%.1f)' % (name, np.mean(scores), np.std(scores)))\n",
    "# plot model performance for comparison\n",
    "plt.figure(figsize=(7, 7))\n",
    "plt.boxplot(results, labels=names, showmeans=True)\n",
    "plt.ylabel('Cross validation error',fontsize=15)\n",
    "plt.xlabel('reg_lambda',fontsize=15)"
   ]
  },
  {
   "cell_type": "markdown",
   "id": "b1b60132",
   "metadata": {},
   "source": [
    "### Regularization (gamma) vs. cross validation error"
   ]
  },
  {
   "cell_type": "code",
   "execution_count": 19,
   "id": "cc208f6c",
   "metadata": {},
   "outputs": [
    {
     "name": "stdout",
     "output_type": "stream",
     "text": [
      ">0.0000 10.7 (1.1)\n",
      ">10.0000 10.8 (1.2)\n",
      ">100.0000 10.6 (1.3)\n",
      ">1000.0000 10.4 (1.2)\n",
      ">10000.0000 10.5 (1.4)\n",
      ">100000.0000 11.9 (1.7)\n",
      ">1000000.0000 11.9 (1.7)\n",
      ">10000000.0000 11.9 (1.7)\n",
      ">100000000.0000 11.9 (1.7)\n",
      ">1000000000.0000 11.9 (1.7)\n"
     ]
    },
    {
     "data": {
      "text/plain": [
       "Text(0.5, 0, 'gamma')"
      ]
     },
     "execution_count": 19,
     "metadata": {},
     "output_type": "execute_result"
    },
    {
     "data": {
      "image/png": "[encoded data removed]",
      "text/plain": [
       "<Figure size 700x700 with 1 Axes>"
      ]
     },
     "metadata": {},
     "output_type": "display_data"
    }
   ],
   "source": [
    "def get_models():\n",
    "    models = dict()\n",
    "    # explore learning rates from 0.1 to 2 in 0.1 increments\n",
    "    for i in [0,10,1e2,1e3,1e4,1e5,1e6,1e7,1e8,1e9]:\n",
    "        key = '%.4f' % i\n",
    "        models[key] = xgb.XGBRegressor(gamma=i,random_state=1)\n",
    "    return models\n",
    "\n",
    "# evaluate a given model using cross-validation\n",
    "def evaluate_model(model, X, y):\n",
    "    # define the evaluation procedure\n",
    "    cv = KFold(n_splits=10, shuffle=True, random_state=1)\n",
    "    # evaluate the model and collect the results\n",
    "    scores = np.sqrt(-cross_val_score(model, X, y, scoring='neg_mean_squared_error', cv=cv, n_jobs=-1))\n",
    "    return scores\n",
    "\n",
    "# get the models to evaluate\n",
    "models = get_models()\n",
    "# evaluate the models and store results\n",
    "results, names = list(), list()\n",
    "for name, model in models.items():\n",
    "    # evaluate the model\n",
    "    scores = evaluate_model(model, X, y)\n",
    "    # store the results\n",
    "    results.append(scores)\n",
    "    names.append(name)\n",
    "    # summarize the performance along the way\n",
    "    print('>%s %.1f (%.1f)' % (name, np.mean(scores), np.std(scores)))\n",
    "# plot model performance for comparison\n",
    "plt.figure(figsize=(7, 7))\n",
    "plt.boxplot(results, labels=names, showmeans=True)\n",
    "plt.ylabel('Cross validation error',fontsize=15)\n",
    "plt.xlabel('gamma',fontsize=15)"
   ]
  },
  {
   "cell_type": "markdown",
   "id": "6db614c0",
   "metadata": {},
   "source": [
    "### Tuning XGboost regressor"
   ]
  },
  {
   "cell_type": "code",
   "execution_count": 21,
   "id": "e131fd0d",
   "metadata": {
    "scrolled": false
   },
   "outputs": [
    {
     "name": "stdout",
     "output_type": "stream",
     "text": [
      "Fitting 5 folds for each of 180 candidates, totalling 900 fits\n",
      "Optimal parameter values = {'learning_rate': 0.01, 'max_depth': 5, 'n_estimators': 500, 'reg_lambda': 0}\n",
      "Optimal cross validation R-squared =  0.2723486267149203\n",
      "Time taken =  116.89041006565094  minutes\n"
     ]
    }
   ],
   "source": [
    "#K-fold cross validation to find optimal parameters for XGBoost\n",
    "start_time = time.time()\n",
    "param_grid = {'max_depth': [5,6,7],\n",
    "              'learning_rate': [0.01,0.05,0.1,0.2],\n",
    "               'reg_lambda':[0,0.01,0.001],\n",
    "                'n_estimators':[150,175,250,500,1000]}\n",
    "\n",
    "cv = KFold(n_splits=5,shuffle=True,random_state=1)\n",
    "optimal_params = GridSearchCV(estimator=xgb.XGBRegressor(random_state=1),                                                       \n",
    "                             param_grid = param_grid,                             \n",
    "                             verbose = 1,\n",
    "                             n_jobs=-1,\n",
    "                             cv = cv)\n",
    "optimal_params.fit(X,y)\n",
    "print(\"Optimal parameter values =\", optimal_params.best_params_)\n",
    "print(\"Optimal cross validation R-squared = \",optimal_params.best_score_)\n",
    "print(\"Time taken = \", (time.time()-start_time)/60, \" minutes\")"
   ]
  },
  {
   "cell_type": "code",
   "execution_count": 22,
   "id": "fda58491",
   "metadata": {},
   "outputs": [
    {
     "data": {
      "text/html": [
       "<div>\n",
       "<style scoped>\n",
       "    .dataframe tbody tr th:only-of-type {\n",
       "        vertical-align: middle;\n",
       "    }\n",
       "\n",
       "    .dataframe tbody tr th {\n",
       "        vertical-align: top;\n",
       "    }\n",
       "\n",
       "    .dataframe thead th {\n",
       "        text-align: right;\n",
       "    }\n",
       "</style>\n",
       "<table border=\"1\" class=\"dataframe\">\n",
       "  <thead>\n",
       "    <tr style=\"text-align: right;\">\n",
       "      <th></th>\n",
       "      <th>mean_fit_time</th>\n",
       "      <th>std_fit_time</th>\n",
       "      <th>mean_score_time</th>\n",
       "      <th>std_score_time</th>\n",
       "      <th>param_learning_rate</th>\n",
       "      <th>param_max_depth</th>\n",
       "      <th>param_n_estimators</th>\n",
       "      <th>param_reg_lambda</th>\n",
       "      <th>params</th>\n",
       "      <th>split0_test_score</th>\n",
       "      <th>split1_test_score</th>\n",
       "      <th>split2_test_score</th>\n",
       "      <th>split3_test_score</th>\n",
       "      <th>split4_test_score</th>\n",
       "      <th>mean_test_score</th>\n",
       "      <th>std_test_score</th>\n",
       "      <th>rank_test_score</th>\n",
       "    </tr>\n",
       "  </thead>\n",
       "  <tbody>\n",
       "    <tr>\n",
       "      <th>45</th>\n",
       "      <td>7.529998</td>\n",
       "      <td>2.968267</td>\n",
       "      <td>0.016086</td>\n",
       "      <td>0.005688</td>\n",
       "      <td>0.05</td>\n",
       "      <td>5</td>\n",
       "      <td>150</td>\n",
       "      <td>0</td>\n",
       "      <td>{'learning_rate': 0.05, 'max_depth': 5, 'n_est...</td>\n",
       "      <td>0.312037</td>\n",
       "      <td>0.194465</td>\n",
       "      <td>0.223778</td>\n",
       "      <td>0.248477</td>\n",
       "      <td>0.379746</td>\n",
       "      <td>0.271701</td>\n",
       "      <td>0.066486</td>\n",
       "      <td>2</td>\n",
       "    </tr>\n",
       "    <tr>\n",
       "      <th>11</th>\n",
       "      <td>16.805838</td>\n",
       "      <td>0.239482</td>\n",
       "      <td>0.035331</td>\n",
       "      <td>0.011213</td>\n",
       "      <td>0.01</td>\n",
       "      <td>5</td>\n",
       "      <td>500</td>\n",
       "      <td>0.001</td>\n",
       "      <td>{'learning_rate': 0.01, 'max_depth': 5, 'n_est...</td>\n",
       "      <td>0.300384</td>\n",
       "      <td>0.202781</td>\n",
       "      <td>0.228180</td>\n",
       "      <td>0.243932</td>\n",
       "      <td>0.375489</td>\n",
       "      <td>0.270153</td>\n",
       "      <td>0.061641</td>\n",
       "      <td>3</td>\n",
       "    </tr>\n",
       "    <tr>\n",
       "      <th>47</th>\n",
       "      <td>4.961077</td>\n",
       "      <td>0.220659</td>\n",
       "      <td>0.014725</td>\n",
       "      <td>0.003232</td>\n",
       "      <td>0.05</td>\n",
       "      <td>5</td>\n",
       "      <td>150</td>\n",
       "      <td>0.001</td>\n",
       "      <td>{'learning_rate': 0.05, 'max_depth': 5, 'n_est...</td>\n",
       "      <td>0.314503</td>\n",
       "      <td>0.196744</td>\n",
       "      <td>0.211412</td>\n",
       "      <td>0.246727</td>\n",
       "      <td>0.378765</td>\n",
       "      <td>0.269630</td>\n",
       "      <td>0.068044</td>\n",
       "      <td>4</td>\n",
       "    </tr>\n",
       "    <tr>\n",
       "      <th>48</th>\n",
       "      <td>6.506721</td>\n",
       "      <td>0.187468</td>\n",
       "      <td>0.026042</td>\n",
       "      <td>0.017705</td>\n",
       "      <td>0.05</td>\n",
       "      <td>5</td>\n",
       "      <td>175</td>\n",
       "      <td>0</td>\n",
       "      <td>{'learning_rate': 0.05, 'max_depth': 5, 'n_est...</td>\n",
       "      <td>0.317490</td>\n",
       "      <td>0.186919</td>\n",
       "      <td>0.219610</td>\n",
       "      <td>0.242890</td>\n",
       "      <td>0.376552</td>\n",
       "      <td>0.268692</td>\n",
       "      <td>0.068959</td>\n",
       "      <td>5</td>\n",
       "    </tr>\n",
       "  </tbody>\n",
       "</table>\n",
       "</div>"
      ],
      "text/plain": [
       "    mean_fit_time  std_fit_time  mean_score_time  std_score_time  \\\n",
       "45       7.529998      2.968267         0.016086        0.005688   \n",
       "11      16.805838      0.239482         0.035331        0.011213   \n",
       "47       4.961077      0.220659         0.014725        0.003232   \n",
       "48       6.506721      0.187468         0.026042        0.017705   \n",
       "\n",
       "   param_learning_rate param_max_depth param_n_estimators param_reg_lambda  \\\n",
       "45                0.05               5                150                0   \n",
       "11                0.01               5                500            0.001   \n",
       "47                0.05               5                150            0.001   \n",
       "48                0.05               5                175                0   \n",
       "\n",
       "                                               params  split0_test_score  \\\n",
       "45  {'learning_rate': 0.05, 'max_depth': 5, 'n_est...           0.312037   \n",
       "11  {'learning_rate': 0.01, 'max_depth': 5, 'n_est...           0.300384   \n",
       "47  {'learning_rate': 0.05, 'max_depth': 5, 'n_est...           0.314503   \n",
       "48  {'learning_rate': 0.05, 'max_depth': 5, 'n_est...           0.317490   \n",
       "\n",
       "    split1_test_score  split2_test_score  split3_test_score  \\\n",
       "45           0.194465           0.223778           0.248477   \n",
       "11           0.202781           0.228180           0.243932   \n",
       "47           0.196744           0.211412           0.246727   \n",
       "48           0.186919           0.219610           0.242890   \n",
       "\n",
       "    split4_test_score  mean_test_score  std_test_score  rank_test_score  \n",
       "45           0.379746         0.271701        0.066486                2  \n",
       "11           0.375489         0.270153        0.061641                3  \n",
       "47           0.378765         0.269630        0.068044                4  \n",
       "48           0.376552         0.268692        0.068959                5  "
      ]
     },
     "execution_count": 22,
     "metadata": {},
     "output_type": "execute_result"
    }
   ],
   "source": [
    "cv_results=pd.DataFrame(optimal_params.cv_results_)\n",
    "cv_results.sort_values(by = 'mean_test_score',ascending=False)[1:5]"
   ]
  },
  {
   "cell_type": "code",
   "execution_count": 15,
   "id": "d5ee3a98",
   "metadata": {},
   "outputs": [
    {
     "data": {
      "text/html": [
       "<style>#sk-container-id-1 {color: black;background-color: white;}#sk-container-id-1 pre{padding: 0;}#sk-container-id-1 div.sk-toggleable {background-color: white;}#sk-container-id-1 label.sk-toggleable__label {cursor: pointer;display: block;width: 100%;margin-bottom: 0;padding: 0.3em;box-sizing: border-box;text-align: center;}#sk-container-id-1 label.sk-toggleable__label-arrow:before {content: \"▸\";float: left;margin-right: 0.25em;color: #696969;}#sk-container-id-1 label.sk-toggleable__label-arrow:hover:before {color: black;}#sk-container-id-1 div.sk-estimator:hover label.sk-toggleable__label-arrow:before {color: black;}#sk-container-id-1 div.sk-toggleable__content {max-height: 0;max-width: 0;overflow: hidden;text-align: left;background-color: #f0f8ff;}#sk-container-id-1 div.sk-toggleable__content pre {margin: 0.2em;color: black;border-radius: 0.25em;background-color: #f0f8ff;}#sk-container-id-1 input.sk-toggleable__control:checked~div.sk-toggleable__content {max-height: 200px;max-width: 100%;overflow: auto;}#sk-container-id-1 input.sk-toggleable__control:checked~label.sk-toggleable__label-arrow:before {content: \"▾\";}#sk-container-id-1 div.sk-estimator input.sk-toggleable__control:checked~label.sk-toggleable__label {background-color: #d4ebff;}#sk-container-id-1 div.sk-label input.sk-toggleable__control:checked~label.sk-toggleable__label {background-color: #d4ebff;}#sk-container-id-1 input.sk-hidden--visually {border: 0;clip: rect(1px 1px 1px 1px);clip: rect(1px, 1px, 1px, 1px);height: 1px;margin: -1px;overflow: hidden;padding: 0;position: absolute;width: 1px;}#sk-container-id-1 div.sk-estimator {font-family: monospace;background-color: #f0f8ff;border: 1px dotted black;border-radius: 0.25em;box-sizing: border-box;margin-bottom: 0.5em;}#sk-container-id-1 div.sk-estimator:hover {background-color: #d4ebff;}#sk-container-id-1 div.sk-parallel-item::after {content: \"\";width: 100%;border-bottom: 1px solid gray;flex-grow: 1;}#sk-container-id-1 div.sk-label:hover label.sk-toggleable__label {background-color: #d4ebff;}#sk-container-id-1 div.sk-serial::before {content: \"\";position: absolute;border-left: 1px solid gray;box-sizing: border-box;top: 0;bottom: 0;left: 50%;z-index: 0;}#sk-container-id-1 div.sk-serial {display: flex;flex-direction: column;align-items: center;background-color: white;padding-right: 0.2em;padding-left: 0.2em;position: relative;}#sk-container-id-1 div.sk-item {position: relative;z-index: 1;}#sk-container-id-1 div.sk-parallel {display: flex;align-items: stretch;justify-content: center;background-color: white;position: relative;}#sk-container-id-1 div.sk-item::before, #sk-container-id-1 div.sk-parallel-item::before {content: \"\";position: absolute;border-left: 1px solid gray;box-sizing: border-box;top: 0;bottom: 0;left: 50%;z-index: -1;}#sk-container-id-1 div.sk-parallel-item {display: flex;flex-direction: column;z-index: 1;position: relative;background-color: white;}#sk-container-id-1 div.sk-parallel-item:first-child::after {align-self: flex-end;width: 50%;}#sk-container-id-1 div.sk-parallel-item:last-child::after {align-self: flex-start;width: 50%;}#sk-container-id-1 div.sk-parallel-item:only-child::after {width: 0;}#sk-container-id-1 div.sk-dashed-wrapped {border: 1px dashed gray;margin: 0 0.4em 0.5em 0.4em;box-sizing: border-box;padding-bottom: 0.4em;background-color: white;}#sk-container-id-1 div.sk-label label {font-family: monospace;font-weight: bold;display: inline-block;line-height: 1.2em;}#sk-container-id-1 div.sk-label-container {text-align: center;}#sk-container-id-1 div.sk-container {/* jupyter's `normalize.less` sets `[hidden] { display: none; }` but bootstrap.min.css set `[hidden] { display: none !important; }` so we also need the `!important` here to be able to override the default hidden behavior on the sphinx rendered scikit-learn.org. See: https://github.com/scikit-learn/scikit-learn/issues/21755 */display: inline-block !important;position: relative;}#sk-container-id-1 div.sk-text-repr-fallback {display: none;}</style><div id=\"sk-container-id-1\" class=\"sk-top-container\"><div class=\"sk-text-repr-fallback\"><pre>XGBRegressor(base_score=None, booster=None, callbacks=None,\n",
       "             colsample_bylevel=None, colsample_bynode=None,\n",
       "             colsample_bytree=None, early_stopping_rounds=None,\n",
       "             enable_categorical=False, eval_metric=None, feature_types=None,\n",
       "             gamma=None, gpu_id=None, grow_policy=None, importance_type=None,\n",
       "             interaction_constraints=None, learning_rate=0.01, max_bin=None,\n",
       "             max_cat_threshold=None, max_cat_to_onehot=None,\n",
       "             max_delta_step=None, max_depth=6, max_leaves=None,\n",
       "             min_child_weight=None, missing=nan, monotone_constraints=None,\n",
       "             n_estimators=1000, n_jobs=None, num_parallel_tree=None,\n",
       "             predictor=None, random_state=1, ...)</pre><b>In a Jupyter environment, please rerun this cell to show the HTML representation or trust the notebook. <br />On GitHub, the HTML representation is unable to render, please try loading this page with nbviewer.org.</b></div><div class=\"sk-container\" hidden><div class=\"sk-item\"><div class=\"sk-estimator sk-toggleable\"><input class=\"sk-toggleable__control sk-hidden--visually\" id=\"sk-estimator-id-1\" type=\"checkbox\" checked><label for=\"sk-estimator-id-1\" class=\"sk-toggleable__label sk-toggleable__label-arrow\">XGBRegressor</label><div class=\"sk-toggleable__content\"><pre>XGBRegressor(base_score=None, booster=None, callbacks=None,\n",
       "             colsample_bylevel=None, colsample_bynode=None,\n",
       "             colsample_bytree=None, early_stopping_rounds=None,\n",
       "             enable_categorical=False, eval_metric=None, feature_types=None,\n",
       "             gamma=None, gpu_id=None, grow_policy=None, importance_type=None,\n",
       "             interaction_constraints=None, learning_rate=0.01, max_bin=None,\n",
       "             max_cat_threshold=None, max_cat_to_onehot=None,\n",
       "             max_delta_step=None, max_depth=6, max_leaves=None,\n",
       "             min_child_weight=None, missing=nan, monotone_constraints=None,\n",
       "             n_estimators=1000, n_jobs=None, num_parallel_tree=None,\n",
       "             predictor=None, random_state=1, ...)</pre></div></div></div></div></div>"
      ],
      "text/plain": [
       "XGBRegressor(base_score=None, booster=None, callbacks=None,\n",
       "             colsample_bylevel=None, colsample_bynode=None,\n",
       "             colsample_bytree=None, early_stopping_rounds=None,\n",
       "             enable_categorical=False, eval_metric=None, feature_types=None,\n",
       "             gamma=None, gpu_id=None, grow_policy=None, importance_type=None,\n",
       "             interaction_constraints=None, learning_rate=0.01, max_bin=None,\n",
       "             max_cat_threshold=None, max_cat_to_onehot=None,\n",
       "             max_delta_step=None, max_depth=6, max_leaves=None,\n",
       "             min_child_weight=None, missing=nan, monotone_constraints=None,\n",
       "             n_estimators=1000, n_jobs=None, num_parallel_tree=None,\n",
       "             predictor=None, random_state=1, ...)"
      ]
     },
     "execution_count": 15,
     "metadata": {},
     "output_type": "execute_result"
    }
   ],
   "source": [
    "model = xgb.XGBRegressor(random_state=1,max_depth=6,n_estimators=1000,\n",
    "                                         learning_rate = 0.01,reg_lambda=0.01)\n",
    "model.fit(X,y)"
   ]
  },
  {
   "cell_type": "code",
   "execution_count": 17,
   "id": "be1e913c",
   "metadata": {
    "scrolled": true
   },
   "outputs": [],
   "source": [
    "pred = pd.DataFrame()\n",
    "pred['id'] = test['id']\n",
    "pred['y'] = model.predict(X_test)\n",
    "pred = pred.set_index(['id'])\n",
    "pred.to_csv('Witarsa_Ashley_regression.csv') "
   ]
  },
  {
   "cell_type": "code",
   "execution_count": null,
   "id": "66c1726a",
   "metadata": {},
   "outputs": [],
   "source": []
  }
 ],
 "metadata": {
  "kernelspec": {
   "display_name": "Python 3 (ipykernel)",
   "language": "python",
   "name": "python3"
  },
  "language_info": {
   "codemirror_mode": {
    "name": "ipython",
    "version": 3
   },
   "file_extension": ".py",
   "mimetype": "text/x-python",
   "name": "python",
   "nbconvert_exporter": "python",
   "pygments_lexer": "ipython3",
   "version": "3.8.8"
  }
 },
 "nbformat": 4,
 "nbformat_minor": 5
}
