{
 "cells": [
  {
   "cell_type": "code",
   "execution_count": 18,
   "id": "41c9478a",
   "metadata": {},
   "outputs": [],
   "source": [
    "import pandas as pd\n",
    "import seaborn as sns\n",
    "import matplotlib.pyplot as plt\n",
    "from skimpy import clean_columns"
   ]
  },
  {
   "cell_type": "code",
   "execution_count": 15,
   "id": "5f6d0de0",
   "metadata": {},
   "outputs": [],
   "source": [
    "df = pd.read_csv('My_CHI._My_Future._Programs.csv')"
   ]
  },
  {
   "cell_type": "code",
   "execution_count": 16,
   "id": "8edbcee4",
   "metadata": {},
   "outputs": [
    {
     "data": {
      "text/html": [
       "<pre style=\"white-space:pre;overflow-x:auto;line-height:normal;font-family:Menlo,'DejaVu Sans Mono',consolas,'Courier New',monospace\"><span style=\"color: #008080; text-decoration-color: #008080; font-weight: bold\">39</span> column names have been cleaned\n",
       "</pre>\n"
      ],
      "text/plain": [
       "\u001b[1;36m39\u001b[0m column names have been cleaned\n"
      ]
     },
     "metadata": {},
     "output_type": "display_data"
    }
   ],
   "source": [
    "df = clean_columns(df)"
   ]
  },
  {
   "cell_type": "code",
   "execution_count": 17,
   "id": "a4f6daae",
   "metadata": {},
   "outputs": [
    {
     "data": {
      "text/html": [
       "<div>\n",
       "<style scoped>\n",
       "    .dataframe tbody tr th:only-of-type {\n",
       "        vertical-align: middle;\n",
       "    }\n",
       "\n",
       "    .dataframe tbody tr th {\n",
       "        vertical-align: top;\n",
       "    }\n",
       "\n",
       "    .dataframe thead th {\n",
       "        text-align: right;\n",
       "    }\n",
       "</style>\n",
       "<table border=\"1\" class=\"dataframe\">\n",
       "  <thead>\n",
       "    <tr style=\"text-align: right;\">\n",
       "      <th></th>\n",
       "      <th>program_id</th>\n",
       "      <th>program_name</th>\n",
       "      <th>description</th>\n",
       "      <th>org_name</th>\n",
       "      <th>category_name</th>\n",
       "      <th>capacity</th>\n",
       "      <th>min_age</th>\n",
       "      <th>max_age</th>\n",
       "      <th>address</th>\n",
       "      <th>city</th>\n",
       "      <th>...</th>\n",
       "      <th>transport_provided</th>\n",
       "      <th>has_free_food</th>\n",
       "      <th>meeting_type</th>\n",
       "      <th>image</th>\n",
       "      <th>hidden_programs</th>\n",
       "      <th>featured</th>\n",
       "      <th>tag</th>\n",
       "      <th>latitude</th>\n",
       "      <th>longitude</th>\n",
       "      <th>location</th>\n",
       "    </tr>\n",
       "  </thead>\n",
       "  <tbody>\n",
       "    <tr>\n",
       "      <th>0</th>\n",
       "      <td>138124</td>\n",
       "      <td>How to Finally Get Consistent with Healthy Eating</td>\n",
       "      <td>During this workshop youÕll identify the main ...</td>\n",
       "      <td>Chicago Public Library</td>\n",
       "      <td>Academic Support</td>\n",
       "      <td>NaN</td>\n",
       "      <td>13</td>\n",
       "      <td>99</td>\n",
       "      <td>NaN</td>\n",
       "      <td>NaN</td>\n",
       "      <td>...</td>\n",
       "      <td>False</td>\n",
       "      <td>False</td>\n",
       "      <td>online</td>\n",
       "      <td>NaN</td>\n",
       "      <td>False</td>\n",
       "      <td>False</td>\n",
       "      <td>Event</td>\n",
       "      <td>NaN</td>\n",
       "      <td>NaN</td>\n",
       "      <td>NaN</td>\n",
       "    </tr>\n",
       "  </tbody>\n",
       "</table>\n",
       "<p>1 rows × 39 columns</p>\n",
       "</div>"
      ],
      "text/plain": [
       "   program_id                                       program_name  \\\n",
       "0      138124  How to Finally Get Consistent with Healthy Eating   \n",
       "\n",
       "                                         description                org_name  \\\n",
       "0  During this workshop youÕll identify the main ...  Chicago Public Library   \n",
       "\n",
       "      category_name  capacity  min_age  max_age address city  ...  \\\n",
       "0  Academic Support       NaN       13       99     NaN  NaN  ...   \n",
       "\n",
       "  transport_provided  has_free_food meeting_type image hidden_programs  \\\n",
       "0              False          False       online   NaN           False   \n",
       "\n",
       "  featured    tag latitude longitude location  \n",
       "0    False  Event      NaN       NaN      NaN  \n",
       "\n",
       "[1 rows x 39 columns]"
      ]
     },
     "execution_count": 17,
     "metadata": {},
     "output_type": "execute_result"
    }
   ],
   "source": [
    "df.head(1)"
   ]
  },
  {
   "cell_type": "code",
   "execution_count": 42,
   "id": "e8fdc9e3",
   "metadata": {},
   "outputs": [
    {
     "data": {
      "text/plain": [
       "0        How to Finally Get Consistent with Healthy Eating\n",
       "1                   English Conversation with Chicago Lawn\n",
       "2        Law at the Library: Changes in Tax Law, Know B...\n",
       "3               Voices for Justice: Author Qian Julie Wang\n",
       "4        Science Fiction & Fantasy Book Group: Dawn by ...\n",
       "                               ...                        \n",
       "68591                Tumbling Lev. 4 - 6 at Morgan Park SC\n",
       "68592    Ice Skating - Freestyle Ice Basic1-FS6 at Morg...\n",
       "68593     Ice Skating - Adult Open Skate at Morgan Park SC\n",
       "68594                       Stick & Puck at Morgan Park SC\n",
       "68595              Ice Skating - Basic 1 at Morgan Park SC\n",
       "Name: program_name, Length: 68596, dtype: object"
      ]
     },
     "execution_count": 42,
     "metadata": {},
     "output_type": "execute_result"
    }
   ],
   "source": [
    "df.program_name"
   ]
  },
  {
   "cell_type": "markdown",
   "id": "45988a12",
   "metadata": {},
   "source": [
    "Notes\n",
    "\n"
   ]
  },
  {
   "cell_type": "code",
   "execution_count": 43,
   "id": "241ecaa8",
   "metadata": {},
   "outputs": [
    {
     "data": {
      "text/plain": [
       "face_to_face    61662\n",
       "online           6934\n",
       "Name: meeting_type, dtype: int64"
      ]
     },
     "execution_count": 43,
     "metadata": {},
     "output_type": "execute_result"
    }
   ],
   "source": [
    "df.meeting_type.value_counts()"
   ]
  },
  {
   "cell_type": "markdown",
   "id": "b2d87c27",
   "metadata": {},
   "source": [
    "## Splitting Data"
   ]
  },
  {
   "cell_type": "markdown",
   "id": "76ea9921",
   "metadata": {},
   "source": [
    "### Meeting Type"
   ]
  },
  {
   "cell_type": "code",
   "execution_count": 28,
   "id": "3a21a8d7",
   "metadata": {},
   "outputs": [],
   "source": [
    "df_online = df[df['meeting_type'] == 'online']"
   ]
  },
  {
   "cell_type": "code",
   "execution_count": 29,
   "id": "d418c891",
   "metadata": {},
   "outputs": [],
   "source": [
    "df_face = df[df['meeting_type'] == 'face_to_face']"
   ]
  },
  {
   "cell_type": "code",
   "execution_count": 30,
   "id": "b8215172",
   "metadata": {},
   "outputs": [
    {
     "data": {
      "text/html": [
       "<div>\n",
       "<style scoped>\n",
       "    .dataframe tbody tr th:only-of-type {\n",
       "        vertical-align: middle;\n",
       "    }\n",
       "\n",
       "    .dataframe tbody tr th {\n",
       "        vertical-align: top;\n",
       "    }\n",
       "\n",
       "    .dataframe thead th {\n",
       "        text-align: right;\n",
       "    }\n",
       "</style>\n",
       "<table border=\"1\" class=\"dataframe\">\n",
       "  <thead>\n",
       "    <tr style=\"text-align: right;\">\n",
       "      <th></th>\n",
       "      <th>program_id</th>\n",
       "      <th>program_name</th>\n",
       "      <th>description</th>\n",
       "      <th>org_name</th>\n",
       "      <th>category_name</th>\n",
       "      <th>capacity</th>\n",
       "      <th>min_age</th>\n",
       "      <th>max_age</th>\n",
       "      <th>address</th>\n",
       "      <th>city</th>\n",
       "      <th>...</th>\n",
       "      <th>transport_provided</th>\n",
       "      <th>has_free_food</th>\n",
       "      <th>meeting_type</th>\n",
       "      <th>image</th>\n",
       "      <th>hidden_programs</th>\n",
       "      <th>featured</th>\n",
       "      <th>tag</th>\n",
       "      <th>latitude</th>\n",
       "      <th>longitude</th>\n",
       "      <th>location</th>\n",
       "    </tr>\n",
       "  </thead>\n",
       "  <tbody>\n",
       "    <tr>\n",
       "      <th>135</th>\n",
       "      <td>106198</td>\n",
       "      <td>All CPL Locations Closed Thursday, November 25</td>\n",
       "      <td>All CPL locations will be closed Thursday, Nov...</td>\n",
       "      <td>Chicago Public Library</td>\n",
       "      <td>Helping Your Community.</td>\n",
       "      <td>99.0</td>\n",
       "      <td>0</td>\n",
       "      <td>99</td>\n",
       "      <td>NaN</td>\n",
       "      <td>Chicago</td>\n",
       "      <td>...</td>\n",
       "      <td>False</td>\n",
       "      <td>False</td>\n",
       "      <td>face_to_face</td>\n",
       "      <td>NaN</td>\n",
       "      <td>False</td>\n",
       "      <td>False</td>\n",
       "      <td>Event</td>\n",
       "      <td>NaN</td>\n",
       "      <td>NaN</td>\n",
       "      <td>NaN</td>\n",
       "    </tr>\n",
       "  </tbody>\n",
       "</table>\n",
       "<p>1 rows × 39 columns</p>\n",
       "</div>"
      ],
      "text/plain": [
       "     program_id                                    program_name  \\\n",
       "135      106198  All CPL Locations Closed Thursday, November 25   \n",
       "\n",
       "                                           description  \\\n",
       "135  All CPL locations will be closed Thursday, Nov...   \n",
       "\n",
       "                   org_name            category_name  capacity  min_age  \\\n",
       "135  Chicago Public Library  Helping Your Community.      99.0        0   \n",
       "\n",
       "     max_age address     city  ... transport_provided  has_free_food  \\\n",
       "135       99     NaN  Chicago  ...              False          False   \n",
       "\n",
       "     meeting_type image hidden_programs featured    tag latitude longitude  \\\n",
       "135  face_to_face   NaN           False    False  Event      NaN       NaN   \n",
       "\n",
       "    location  \n",
       "135      NaN  \n",
       "\n",
       "[1 rows x 39 columns]"
      ]
     },
     "execution_count": 30,
     "metadata": {},
     "output_type": "execute_result"
    }
   ],
   "source": [
    "df_face.head(1)"
   ]
  },
  {
   "cell_type": "code",
   "execution_count": 33,
   "id": "ff69e094",
   "metadata": {},
   "outputs": [
    {
     "data": {
      "text/plain": [
       "False    61234\n",
       "True        69\n",
       "Name: transport_provided, dtype: int64"
      ]
     },
     "execution_count": 33,
     "metadata": {},
     "output_type": "execute_result"
    }
   ],
   "source": [
    "df_face.transport_provided.value_counts()"
   ]
  },
  {
   "cell_type": "code",
   "execution_count": 34,
   "id": "7f1a76f5",
   "metadata": {},
   "outputs": [],
   "source": [
    "# dataframe of in person programs where transportation is provided\n",
    "df_tp_og_index = df[df['transport_provided'] == True]"
   ]
  },
  {
   "cell_type": "code",
   "execution_count": 35,
   "id": "479d21ee",
   "metadata": {},
   "outputs": [],
   "source": [
    "# reindexing df_tp_og_index for ease of use when working with rows where transportation is provided\n",
    "df_tp = df_tp_og_index.reset_index()"
   ]
  },
  {
   "cell_type": "code",
   "execution_count": 36,
   "id": "a324ed17",
   "metadata": {},
   "outputs": [],
   "source": [
    "#dropping old index\n",
    "df_tp = df_tp.iloc[: , 1:]"
   ]
  },
  {
   "cell_type": "code",
   "execution_count": 37,
   "id": "2421348c",
   "metadata": {
    "scrolled": true
   },
   "outputs": [
    {
     "data": {
      "text/html": [
       "<div>\n",
       "<style scoped>\n",
       "    .dataframe tbody tr th:only-of-type {\n",
       "        vertical-align: middle;\n",
       "    }\n",
       "\n",
       "    .dataframe tbody tr th {\n",
       "        vertical-align: top;\n",
       "    }\n",
       "\n",
       "    .dataframe thead th {\n",
       "        text-align: right;\n",
       "    }\n",
       "</style>\n",
       "<table border=\"1\" class=\"dataframe\">\n",
       "  <thead>\n",
       "    <tr style=\"text-align: right;\">\n",
       "      <th></th>\n",
       "      <th>program_id</th>\n",
       "      <th>program_name</th>\n",
       "      <th>description</th>\n",
       "      <th>org_name</th>\n",
       "      <th>category_name</th>\n",
       "      <th>capacity</th>\n",
       "      <th>min_age</th>\n",
       "      <th>max_age</th>\n",
       "      <th>address</th>\n",
       "      <th>city</th>\n",
       "      <th>...</th>\n",
       "      <th>transport_provided</th>\n",
       "      <th>has_free_food</th>\n",
       "      <th>meeting_type</th>\n",
       "      <th>image</th>\n",
       "      <th>hidden_programs</th>\n",
       "      <th>featured</th>\n",
       "      <th>tag</th>\n",
       "      <th>latitude</th>\n",
       "      <th>longitude</th>\n",
       "      <th>location</th>\n",
       "    </tr>\n",
       "  </thead>\n",
       "  <tbody>\n",
       "    <tr>\n",
       "      <th>0</th>\n",
       "      <td>121076</td>\n",
       "      <td>Test Program 4/21/2022-4</td>\n",
       "      <td>&lt;p&gt;Test for no address&lt;/p&gt;</td>\n",
       "      <td>DYN Tech</td>\n",
       "      <td>Transportation</td>\n",
       "      <td>NaN</td>\n",
       "      <td>4</td>\n",
       "      <td>21</td>\n",
       "      <td>1234 East 56th Street</td>\n",
       "      <td>Chicago</td>\n",
       "      <td>...</td>\n",
       "      <td>True</td>\n",
       "      <td>True</td>\n",
       "      <td>face_to_face</td>\n",
       "      <td>https://cityoflearning-uploads.s3.amazonaws.co...</td>\n",
       "      <td>False</td>\n",
       "      <td>False</td>\n",
       "      <td>Program</td>\n",
       "      <td>41.793495</td>\n",
       "      <td>-87.595184</td>\n",
       "      <td>POINT (-87.595184326 41.793495178)</td>\n",
       "    </tr>\n",
       "    <tr>\n",
       "      <th>1</th>\n",
       "      <td>98698</td>\n",
       "      <td>Kayak and Caring for the Environment</td>\n",
       "      <td>&lt;p&gt;Time: 9:30 a.m. - 2:30 p.m.&lt;br&gt;Capacity: 15...</td>\n",
       "      <td>John G. Shedd Aquarium</td>\n",
       "      <td>Science</td>\n",
       "      <td>15.0</td>\n",
       "      <td>13</td>\n",
       "      <td>18</td>\n",
       "      <td>NaN</td>\n",
       "      <td>NaN</td>\n",
       "      <td>...</td>\n",
       "      <td>True</td>\n",
       "      <td>False</td>\n",
       "      <td>face_to_face</td>\n",
       "      <td>https://cityoflearning-uploads.s3.amazonaws.co...</td>\n",
       "      <td>False</td>\n",
       "      <td>False</td>\n",
       "      <td>Event</td>\n",
       "      <td>NaN</td>\n",
       "      <td>NaN</td>\n",
       "      <td>NaN</td>\n",
       "    </tr>\n",
       "    <tr>\n",
       "      <th>2</th>\n",
       "      <td>124453</td>\n",
       "      <td>Cannabis Legal Studies</td>\n",
       "      <td>&lt;p&gt;&lt;strong&gt;Program Overview&lt;/strong&gt;&lt;/p&gt;&lt;p&gt;Leg...</td>\n",
       "      <td>LAW AND THE FAM ℠</td>\n",
       "      <td>Work + Career</td>\n",
       "      <td>25.0</td>\n",
       "      <td>18</td>\n",
       "      <td>25</td>\n",
       "      <td>NaN</td>\n",
       "      <td>NaN</td>\n",
       "      <td>...</td>\n",
       "      <td>True</td>\n",
       "      <td>True</td>\n",
       "      <td>online</td>\n",
       "      <td>https://cityoflearning-uploads.s3.amazonaws.co...</td>\n",
       "      <td>False</td>\n",
       "      <td>False</td>\n",
       "      <td>Job</td>\n",
       "      <td>NaN</td>\n",
       "      <td>NaN</td>\n",
       "      <td>NaN</td>\n",
       "    </tr>\n",
       "    <tr>\n",
       "      <th>3</th>\n",
       "      <td>98700</td>\n",
       "      <td>Kayak and Caring for the Environment</td>\n",
       "      <td>&lt;p&gt;Dates: Please only select one of three date...</td>\n",
       "      <td>John G. Shedd Aquarium</td>\n",
       "      <td>Nature.</td>\n",
       "      <td>15.0</td>\n",
       "      <td>13</td>\n",
       "      <td>18</td>\n",
       "      <td>NaN</td>\n",
       "      <td>NaN</td>\n",
       "      <td>...</td>\n",
       "      <td>True</td>\n",
       "      <td>False</td>\n",
       "      <td>face_to_face</td>\n",
       "      <td>https://cityoflearning-uploads.s3.amazonaws.co...</td>\n",
       "      <td>False</td>\n",
       "      <td>False</td>\n",
       "      <td>Event</td>\n",
       "      <td>NaN</td>\n",
       "      <td>NaN</td>\n",
       "      <td>NaN</td>\n",
       "    </tr>\n",
       "    <tr>\n",
       "      <th>4</th>\n",
       "      <td>127088</td>\n",
       "      <td>Chicago200</td>\n",
       "      <td>&lt;p&gt;Chicago200 is an annual leadership program ...</td>\n",
       "      <td>Common Purpose</td>\n",
       "      <td>Helping Your Community.</td>\n",
       "      <td>NaN</td>\n",
       "      <td>18</td>\n",
       "      <td>25</td>\n",
       "      <td>NaN</td>\n",
       "      <td>Chicago</td>\n",
       "      <td>...</td>\n",
       "      <td>True</td>\n",
       "      <td>True</td>\n",
       "      <td>face_to_face</td>\n",
       "      <td>https://cityoflearning-uploads.s3.amazonaws.co...</td>\n",
       "      <td>False</td>\n",
       "      <td>False</td>\n",
       "      <td>Event</td>\n",
       "      <td>NaN</td>\n",
       "      <td>NaN</td>\n",
       "      <td>NaN</td>\n",
       "    </tr>\n",
       "    <tr>\n",
       "      <th>...</th>\n",
       "      <td>...</td>\n",
       "      <td>...</td>\n",
       "      <td>...</td>\n",
       "      <td>...</td>\n",
       "      <td>...</td>\n",
       "      <td>...</td>\n",
       "      <td>...</td>\n",
       "      <td>...</td>\n",
       "      <td>...</td>\n",
       "      <td>...</td>\n",
       "      <td>...</td>\n",
       "      <td>...</td>\n",
       "      <td>...</td>\n",
       "      <td>...</td>\n",
       "      <td>...</td>\n",
       "      <td>...</td>\n",
       "      <td>...</td>\n",
       "      <td>...</td>\n",
       "      <td>...</td>\n",
       "      <td>...</td>\n",
       "      <td>...</td>\n",
       "    </tr>\n",
       "    <tr>\n",
       "      <th>66</th>\n",
       "      <td>134605</td>\n",
       "      <td>Christ, Camping, &amp; Coming of Age</td>\n",
       "      <td>&lt;p&gt;Two safe, fun-filled, and spiritually nurtu...</td>\n",
       "      <td>Agape Center</td>\n",
       "      <td>Nature.</td>\n",
       "      <td>12.0</td>\n",
       "      <td>11</td>\n",
       "      <td>14</td>\n",
       "      <td>9600 Wolf Road</td>\n",
       "      <td>Willow Springs</td>\n",
       "      <td>...</td>\n",
       "      <td>True</td>\n",
       "      <td>True</td>\n",
       "      <td>face_to_face</td>\n",
       "      <td>https://cityoflearning-uploads.s3.amazonaws.co...</td>\n",
       "      <td>False</td>\n",
       "      <td>False</td>\n",
       "      <td>Event</td>\n",
       "      <td>41.713299</td>\n",
       "      <td>-87.895203</td>\n",
       "      <td>POINT (-87.895202637 41.713298798)</td>\n",
       "    </tr>\n",
       "    <tr>\n",
       "      <th>67</th>\n",
       "      <td>134606</td>\n",
       "      <td>Christ, Camping, &amp; Coming of Age</td>\n",
       "      <td>&lt;p&gt;Two safe, fun-filled, and spiritually nurtu...</td>\n",
       "      <td>Agape Center</td>\n",
       "      <td>Sports + Wellness.</td>\n",
       "      <td>12.0</td>\n",
       "      <td>11</td>\n",
       "      <td>14</td>\n",
       "      <td>9600 Wolf Road</td>\n",
       "      <td>Willow Springs</td>\n",
       "      <td>...</td>\n",
       "      <td>True</td>\n",
       "      <td>True</td>\n",
       "      <td>face_to_face</td>\n",
       "      <td>https://cityoflearning-uploads.s3.amazonaws.co...</td>\n",
       "      <td>False</td>\n",
       "      <td>False</td>\n",
       "      <td>Event</td>\n",
       "      <td>41.713310</td>\n",
       "      <td>-87.895157</td>\n",
       "      <td>POINT (-87.89515686 41.713310242)</td>\n",
       "    </tr>\n",
       "    <tr>\n",
       "      <th>68</th>\n",
       "      <td>134605</td>\n",
       "      <td>Christ, Camping, &amp; Coming of Age</td>\n",
       "      <td>&lt;p&gt;Two safe, fun-filled, and spiritually nurtu...</td>\n",
       "      <td>Agape Center</td>\n",
       "      <td>Sports + Wellness.</td>\n",
       "      <td>12.0</td>\n",
       "      <td>11</td>\n",
       "      <td>14</td>\n",
       "      <td>9600 Wolf Road</td>\n",
       "      <td>Willow Springs</td>\n",
       "      <td>...</td>\n",
       "      <td>True</td>\n",
       "      <td>True</td>\n",
       "      <td>face_to_face</td>\n",
       "      <td>https://cityoflearning-uploads.s3.amazonaws.co...</td>\n",
       "      <td>False</td>\n",
       "      <td>False</td>\n",
       "      <td>Event</td>\n",
       "      <td>41.713299</td>\n",
       "      <td>-87.895203</td>\n",
       "      <td>POINT (-87.895202637 41.713298798)</td>\n",
       "    </tr>\n",
       "    <tr>\n",
       "      <th>69</th>\n",
       "      <td>94257</td>\n",
       "      <td>MAPSCorps @ Centers for New Horizons - Altgeld...</td>\n",
       "      <td>&lt;p&gt;Are you ready to build skills for your futu...</td>\n",
       "      <td>MAPSCorps</td>\n",
       "      <td>Work + Career</td>\n",
       "      <td>10.0</td>\n",
       "      <td>16</td>\n",
       "      <td>19</td>\n",
       "      <td>13107 South Ingleside Avenue</td>\n",
       "      <td>Chicago</td>\n",
       "      <td>...</td>\n",
       "      <td>True</td>\n",
       "      <td>False</td>\n",
       "      <td>face_to_face</td>\n",
       "      <td>https://cityoflearning-uploads.s3.amazonaws.co...</td>\n",
       "      <td>False</td>\n",
       "      <td>False</td>\n",
       "      <td>Job</td>\n",
       "      <td>41.657211</td>\n",
       "      <td>-87.599350</td>\n",
       "      <td>POINT (-87.599349976 41.657211304)</td>\n",
       "    </tr>\n",
       "    <tr>\n",
       "      <th>70</th>\n",
       "      <td>94257</td>\n",
       "      <td>MAPSCorps @ Centers for New Horizons - Altgeld...</td>\n",
       "      <td>&lt;p&gt;Are you ready to build skills for your futu...</td>\n",
       "      <td>MAPSCorps</td>\n",
       "      <td>Science</td>\n",
       "      <td>10.0</td>\n",
       "      <td>16</td>\n",
       "      <td>19</td>\n",
       "      <td>13107 South Ingleside Avenue</td>\n",
       "      <td>Chicago</td>\n",
       "      <td>...</td>\n",
       "      <td>True</td>\n",
       "      <td>False</td>\n",
       "      <td>face_to_face</td>\n",
       "      <td>https://cityoflearning-uploads.s3.amazonaws.co...</td>\n",
       "      <td>False</td>\n",
       "      <td>False</td>\n",
       "      <td>Program</td>\n",
       "      <td>41.657211</td>\n",
       "      <td>-87.599350</td>\n",
       "      <td>POINT (-87.599349976 41.657211304)</td>\n",
       "    </tr>\n",
       "  </tbody>\n",
       "</table>\n",
       "<p>71 rows × 39 columns</p>\n",
       "</div>"
      ],
      "text/plain": [
       "    program_id                                       program_name  \\\n",
       "0       121076                           Test Program 4/21/2022-4   \n",
       "1        98698               Kayak and Caring for the Environment   \n",
       "2       124453                             Cannabis Legal Studies   \n",
       "3        98700               Kayak and Caring for the Environment   \n",
       "4       127088                                         Chicago200   \n",
       "..         ...                                                ...   \n",
       "66      134605                   Christ, Camping, & Coming of Age   \n",
       "67      134606                   Christ, Camping, & Coming of Age   \n",
       "68      134605                   Christ, Camping, & Coming of Age   \n",
       "69       94257  MAPSCorps @ Centers for New Horizons - Altgeld...   \n",
       "70       94257  MAPSCorps @ Centers for New Horizons - Altgeld...   \n",
       "\n",
       "                                          description                org_name  \\\n",
       "0                          <p>Test for no address</p>                DYN Tech   \n",
       "1   <p>Time: 9:30 a.m. - 2:30 p.m.<br>Capacity: 15...  John G. Shedd Aquarium   \n",
       "2   <p><strong>Program Overview</strong></p><p>Leg...       LAW AND THE FAM ℠   \n",
       "3   <p>Dates: Please only select one of three date...  John G. Shedd Aquarium   \n",
       "4   <p>Chicago200 is an annual leadership program ...          Common Purpose   \n",
       "..                                                ...                     ...   \n",
       "66  <p>Two safe, fun-filled, and spiritually nurtu...            Agape Center   \n",
       "67  <p>Two safe, fun-filled, and spiritually nurtu...            Agape Center   \n",
       "68  <p>Two safe, fun-filled, and spiritually nurtu...            Agape Center   \n",
       "69  <p>Are you ready to build skills for your futu...               MAPSCorps   \n",
       "70  <p>Are you ready to build skills for your futu...               MAPSCorps   \n",
       "\n",
       "              category_name  capacity  min_age  max_age  \\\n",
       "0            Transportation       NaN        4       21   \n",
       "1                   Science      15.0       13       18   \n",
       "2             Work + Career      25.0       18       25   \n",
       "3                   Nature.      15.0       13       18   \n",
       "4   Helping Your Community.       NaN       18       25   \n",
       "..                      ...       ...      ...      ...   \n",
       "66                  Nature.      12.0       11       14   \n",
       "67       Sports + Wellness.      12.0       11       14   \n",
       "68       Sports + Wellness.      12.0       11       14   \n",
       "69            Work + Career      10.0       16       19   \n",
       "70                  Science      10.0       16       19   \n",
       "\n",
       "                         address            city  ... transport_provided  \\\n",
       "0          1234 East 56th Street         Chicago  ...               True   \n",
       "1                            NaN             NaN  ...               True   \n",
       "2                            NaN             NaN  ...               True   \n",
       "3                            NaN             NaN  ...               True   \n",
       "4                            NaN         Chicago  ...               True   \n",
       "..                           ...             ...  ...                ...   \n",
       "66                9600 Wolf Road  Willow Springs  ...               True   \n",
       "67                9600 Wolf Road  Willow Springs  ...               True   \n",
       "68                9600 Wolf Road  Willow Springs  ...               True   \n",
       "69  13107 South Ingleside Avenue         Chicago  ...               True   \n",
       "70  13107 South Ingleside Avenue         Chicago  ...               True   \n",
       "\n",
       "    has_free_food  meeting_type  \\\n",
       "0            True  face_to_face   \n",
       "1           False  face_to_face   \n",
       "2            True        online   \n",
       "3           False  face_to_face   \n",
       "4            True  face_to_face   \n",
       "..            ...           ...   \n",
       "66           True  face_to_face   \n",
       "67           True  face_to_face   \n",
       "68           True  face_to_face   \n",
       "69          False  face_to_face   \n",
       "70          False  face_to_face   \n",
       "\n",
       "                                                image hidden_programs  \\\n",
       "0   https://cityoflearning-uploads.s3.amazonaws.co...           False   \n",
       "1   https://cityoflearning-uploads.s3.amazonaws.co...           False   \n",
       "2   https://cityoflearning-uploads.s3.amazonaws.co...           False   \n",
       "3   https://cityoflearning-uploads.s3.amazonaws.co...           False   \n",
       "4   https://cityoflearning-uploads.s3.amazonaws.co...           False   \n",
       "..                                                ...             ...   \n",
       "66  https://cityoflearning-uploads.s3.amazonaws.co...           False   \n",
       "67  https://cityoflearning-uploads.s3.amazonaws.co...           False   \n",
       "68  https://cityoflearning-uploads.s3.amazonaws.co...           False   \n",
       "69  https://cityoflearning-uploads.s3.amazonaws.co...           False   \n",
       "70  https://cityoflearning-uploads.s3.amazonaws.co...           False   \n",
       "\n",
       "   featured      tag   latitude  longitude                            location  \n",
       "0     False  Program  41.793495 -87.595184  POINT (-87.595184326 41.793495178)  \n",
       "1     False    Event        NaN        NaN                                 NaN  \n",
       "2     False      Job        NaN        NaN                                 NaN  \n",
       "3     False    Event        NaN        NaN                                 NaN  \n",
       "4     False    Event        NaN        NaN                                 NaN  \n",
       "..      ...      ...        ...        ...                                 ...  \n",
       "66    False    Event  41.713299 -87.895203  POINT (-87.895202637 41.713298798)  \n",
       "67    False    Event  41.713310 -87.895157   POINT (-87.89515686 41.713310242)  \n",
       "68    False    Event  41.713299 -87.895203  POINT (-87.895202637 41.713298798)  \n",
       "69    False      Job  41.657211 -87.599350  POINT (-87.599349976 41.657211304)  \n",
       "70    False  Program  41.657211 -87.599350  POINT (-87.599349976 41.657211304)  \n",
       "\n",
       "[71 rows x 39 columns]"
      ]
     },
     "execution_count": 37,
     "metadata": {},
     "output_type": "execute_result"
    }
   ],
   "source": [
    "df_tp"
   ]
  },
  {
   "cell_type": "code",
   "execution_count": 119,
   "id": "8f8d70d4",
   "metadata": {},
   "outputs": [],
   "source": [
    "# removing a single NaN row\n",
    "df = df.loc[df.index != 65887]"
   ]
  },
  {
   "cell_type": "code",
   "execution_count": 185,
   "id": "481085d1",
   "metadata": {},
   "outputs": [],
   "source": [
    "# there was 1 row value in the category_name column called \"Computers\" and 777 called \"Computers.\" - replacing \"Computer with \"Computers.\n",
    "df[\"category_name\"] = df[\"category_name\"].replace(\"Computers\", \"Computers.\")"
   ]
  },
  {
   "cell_type": "markdown",
   "id": "463d0836",
   "metadata": {},
   "source": [
    "Some notes / questions\n",
    "1. For categories, what does the academic support category look like? Can reading & writing, social studies, science, science/math be included in academic support or should they be kept separate?\n"
   ]
  },
  {
   "cell_type": "code",
   "execution_count": 160,
   "id": "fe1282e7",
   "metadata": {},
   "outputs": [
    {
     "data": {
      "text/plain": [
       "Free             27362\n",
       "$50 or Less      23771\n",
       "More Than $50     7004\n",
       "Unknown           3524\n",
       "Name: program_price, dtype: int64"
      ]
     },
     "execution_count": 160,
     "metadata": {},
     "output_type": "execute_result"
    }
   ],
   "source": [
    "df.program_price.value_counts()"
   ]
  },
  {
   "cell_type": "code",
   "execution_count": 181,
   "id": "7ea6f663",
   "metadata": {},
   "outputs": [],
   "source": [
    "program_price_grouped = df.groupby(['program_price', 'category_name'], dropna = False)"
   ]
  },
  {
   "cell_type": "code",
   "execution_count": 182,
   "id": "cc6f7ccc",
   "metadata": {},
   "outputs": [
    {
     "data": {
      "text/plain": [
       "program_price  category_name           \n",
       "$50 or Less    Academic Support             559\n",
       "               Building & Fixing Things     237\n",
       "               Computers.                     6\n",
       "               Customer/Human Service         2\n",
       "               Digital Media.                38\n",
       "                                           ... \n",
       "Unknown        Music & Art.                  85\n",
       "               Nature.                       12\n",
       "               Reading & Writing.             2\n",
       "               Science                        3\n",
       "               Sports + Wellness.          3408\n",
       "Length: 61, dtype: int64"
      ]
     },
     "execution_count": 182,
     "metadata": {},
     "output_type": "execute_result"
    }
   ],
   "source": [
    "program_price_grouped.size()"
   ]
  },
  {
   "cell_type": "code",
   "execution_count": 186,
   "id": "b47763cc",
   "metadata": {},
   "outputs": [],
   "source": [
    "pivot_table = program_price_grouped.size().unstack('category_name')"
   ]
  },
  {
   "cell_type": "code",
   "execution_count": 187,
   "id": "89732c5c",
   "metadata": {
    "scrolled": false
   },
   "outputs": [
    {
     "data": {
      "text/html": [
       "<div>\n",
       "<style scoped>\n",
       "    .dataframe tbody tr th:only-of-type {\n",
       "        vertical-align: middle;\n",
       "    }\n",
       "\n",
       "    .dataframe tbody tr th {\n",
       "        vertical-align: top;\n",
       "    }\n",
       "\n",
       "    .dataframe thead th {\n",
       "        text-align: right;\n",
       "    }\n",
       "</style>\n",
       "<table border=\"1\" class=\"dataframe\">\n",
       "  <thead>\n",
       "    <tr style=\"text-align: right;\">\n",
       "      <th>category_name</th>\n",
       "      <th>Academic Support</th>\n",
       "      <th>Building &amp; Fixing Things</th>\n",
       "      <th>Computers.</th>\n",
       "      <th>Customer/Human Service</th>\n",
       "      <th>Digital Media.</th>\n",
       "      <th>Food.</th>\n",
       "      <th>Healthcare</th>\n",
       "      <th>Helping Your Community.</th>\n",
       "      <th>Law</th>\n",
       "      <th>Managing Money.</th>\n",
       "      <th>...</th>\n",
       "      <th>Nature.</th>\n",
       "      <th>Performance.</th>\n",
       "      <th>Reading &amp; Writing.</th>\n",
       "      <th>Science</th>\n",
       "      <th>Science &amp; Math</th>\n",
       "      <th>Social Studies</th>\n",
       "      <th>Sports + Wellness.</th>\n",
       "      <th>Teaching</th>\n",
       "      <th>Transportation</th>\n",
       "      <th>Work + Career</th>\n",
       "    </tr>\n",
       "    <tr>\n",
       "      <th>program_price</th>\n",
       "      <th></th>\n",
       "      <th></th>\n",
       "      <th></th>\n",
       "      <th></th>\n",
       "      <th></th>\n",
       "      <th></th>\n",
       "      <th></th>\n",
       "      <th></th>\n",
       "      <th></th>\n",
       "      <th></th>\n",
       "      <th></th>\n",
       "      <th></th>\n",
       "      <th></th>\n",
       "      <th></th>\n",
       "      <th></th>\n",
       "      <th></th>\n",
       "      <th></th>\n",
       "      <th></th>\n",
       "      <th></th>\n",
       "      <th></th>\n",
       "      <th></th>\n",
       "    </tr>\n",
       "  </thead>\n",
       "  <tbody>\n",
       "    <tr>\n",
       "      <th>$50 or Less</th>\n",
       "      <td>559.0</td>\n",
       "      <td>237.0</td>\n",
       "      <td>6.0</td>\n",
       "      <td>2.0</td>\n",
       "      <td>38.0</td>\n",
       "      <td>43.0</td>\n",
       "      <td>51.0</td>\n",
       "      <td>5.0</td>\n",
       "      <td>NaN</td>\n",
       "      <td>NaN</td>\n",
       "      <td>...</td>\n",
       "      <td>222.0</td>\n",
       "      <td>95.0</td>\n",
       "      <td>109.0</td>\n",
       "      <td>208.0</td>\n",
       "      <td>NaN</td>\n",
       "      <td>1.0</td>\n",
       "      <td>18907.0</td>\n",
       "      <td>2.0</td>\n",
       "      <td>1.0</td>\n",
       "      <td>1.0</td>\n",
       "    </tr>\n",
       "    <tr>\n",
       "      <th>Free</th>\n",
       "      <td>575.0</td>\n",
       "      <td>706.0</td>\n",
       "      <td>759.0</td>\n",
       "      <td>29.0</td>\n",
       "      <td>52.0</td>\n",
       "      <td>287.0</td>\n",
       "      <td>276.0</td>\n",
       "      <td>384.0</td>\n",
       "      <td>2.0</td>\n",
       "      <td>235.0</td>\n",
       "      <td>...</td>\n",
       "      <td>388.0</td>\n",
       "      <td>258.0</td>\n",
       "      <td>4218.0</td>\n",
       "      <td>816.0</td>\n",
       "      <td>1.0</td>\n",
       "      <td>115.0</td>\n",
       "      <td>6916.0</td>\n",
       "      <td>3.0</td>\n",
       "      <td>6.0</td>\n",
       "      <td>211.0</td>\n",
       "    </tr>\n",
       "    <tr>\n",
       "      <th>More Than $50</th>\n",
       "      <td>611.0</td>\n",
       "      <td>81.0</td>\n",
       "      <td>13.0</td>\n",
       "      <td>NaN</td>\n",
       "      <td>NaN</td>\n",
       "      <td>NaN</td>\n",
       "      <td>13.0</td>\n",
       "      <td>6.0</td>\n",
       "      <td>NaN</td>\n",
       "      <td>NaN</td>\n",
       "      <td>...</td>\n",
       "      <td>30.0</td>\n",
       "      <td>77.0</td>\n",
       "      <td>7.0</td>\n",
       "      <td>17.0</td>\n",
       "      <td>NaN</td>\n",
       "      <td>NaN</td>\n",
       "      <td>5286.0</td>\n",
       "      <td>1.0</td>\n",
       "      <td>NaN</td>\n",
       "      <td>4.0</td>\n",
       "    </tr>\n",
       "    <tr>\n",
       "      <th>Unknown</th>\n",
       "      <td>NaN</td>\n",
       "      <td>14.0</td>\n",
       "      <td>NaN</td>\n",
       "      <td>NaN</td>\n",
       "      <td>NaN</td>\n",
       "      <td>NaN</td>\n",
       "      <td>NaN</td>\n",
       "      <td>NaN</td>\n",
       "      <td>NaN</td>\n",
       "      <td>NaN</td>\n",
       "      <td>...</td>\n",
       "      <td>12.0</td>\n",
       "      <td>NaN</td>\n",
       "      <td>2.0</td>\n",
       "      <td>3.0</td>\n",
       "      <td>NaN</td>\n",
       "      <td>NaN</td>\n",
       "      <td>3408.0</td>\n",
       "      <td>NaN</td>\n",
       "      <td>NaN</td>\n",
       "      <td>NaN</td>\n",
       "    </tr>\n",
       "  </tbody>\n",
       "</table>\n",
       "<p>4 rows × 22 columns</p>\n",
       "</div>"
      ],
      "text/plain": [
       "category_name  Academic Support  Building & Fixing Things  Computers.  \\\n",
       "program_price                                                           \n",
       "$50 or Less               559.0                     237.0         6.0   \n",
       "Free                      575.0                     706.0       759.0   \n",
       "More Than $50             611.0                      81.0        13.0   \n",
       "Unknown                     NaN                      14.0         NaN   \n",
       "\n",
       "category_name  Customer/Human Service  Digital Media.  Food.  Healthcare  \\\n",
       "program_price                                                              \n",
       "$50 or Less                       2.0            38.0   43.0        51.0   \n",
       "Free                             29.0            52.0  287.0       276.0   \n",
       "More Than $50                     NaN             NaN    NaN        13.0   \n",
       "Unknown                           NaN             NaN    NaN         NaN   \n",
       "\n",
       "category_name  Helping Your Community.  Law  Managing Money.  ...  Nature.  \\\n",
       "program_price                                                 ...            \n",
       "$50 or Less                        5.0  NaN              NaN  ...    222.0   \n",
       "Free                             384.0  2.0            235.0  ...    388.0   \n",
       "More Than $50                      6.0  NaN              NaN  ...     30.0   \n",
       "Unknown                            NaN  NaN              NaN  ...     12.0   \n",
       "\n",
       "category_name  Performance.  Reading & Writing.  Science  Science & Math  \\\n",
       "program_price                                                              \n",
       "$50 or Less            95.0               109.0    208.0             NaN   \n",
       "Free                  258.0              4218.0    816.0             1.0   \n",
       "More Than $50          77.0                 7.0     17.0             NaN   \n",
       "Unknown                 NaN                 2.0      3.0             NaN   \n",
       "\n",
       "category_name  Social Studies  Sports + Wellness.  Teaching  Transportation  \\\n",
       "program_price                                                                 \n",
       "$50 or Less               1.0             18907.0       2.0             1.0   \n",
       "Free                    115.0              6916.0       3.0             6.0   \n",
       "More Than $50             NaN              5286.0       1.0             NaN   \n",
       "Unknown                   NaN              3408.0       NaN             NaN   \n",
       "\n",
       "category_name  Work + Career  \n",
       "program_price                 \n",
       "$50 or Less              1.0  \n",
       "Free                   211.0  \n",
       "More Than $50            4.0  \n",
       "Unknown                  NaN  \n",
       "\n",
       "[4 rows x 22 columns]"
      ]
     },
     "execution_count": 187,
     "metadata": {},
     "output_type": "execute_result"
    }
   ],
   "source": [
    "pivot_table"
   ]
  },
  {
   "cell_type": "markdown",
   "id": "4b7b87c0",
   "metadata": {},
   "source": [
    "### Max Age – Greater than 25 should be family event"
   ]
  },
  {
   "cell_type": "code",
   "execution_count": 40,
   "id": "a4e13afe",
   "metadata": {},
   "outputs": [
    {
     "ename": "ImportError",
     "evalue": "cannot import name 'find_stack_level' from 'pandas.util._exceptions' (/Users/ashleywitarsa/opt/anaconda3/lib/python3.8/site-packages/pandas/util/_exceptions.py)",
     "output_type": "error",
     "traceback": [
      "\u001b[0;31m---------------------------------------------------------------------------\u001b[0m",
      "\u001b[0;31mImportError\u001b[0m                               Traceback (most recent call last)",
      "\u001b[0;32m<ipython-input-40-567e4b7b106c>\u001b[0m in \u001b[0;36m<module>\u001b[0;34m\u001b[0m\n\u001b[0;32m----> 1\u001b[0;31m \u001b[0mdf_young\u001b[0m \u001b[0;34m=\u001b[0m \u001b[0mdf\u001b[0m\u001b[0;34m.\u001b[0m\u001b[0mloc\u001b[0m\u001b[0;34m[\u001b[0m\u001b[0mdf\u001b[0m\u001b[0;34m[\u001b[0m\u001b[0;34m'max_age'\u001b[0m\u001b[0;34m]\u001b[0m \u001b[0;34m<=\u001b[0m \u001b[0;36m25\u001b[0m\u001b[0;34m]\u001b[0m\u001b[0;34m\u001b[0m\u001b[0;34m\u001b[0m\u001b[0m\n\u001b[0m",
      "\u001b[0;32m~/opt/anaconda3/lib/python3.8/site-packages/pandas/core/ops/common.py\u001b[0m in \u001b[0;36mnew_method\u001b[0;34m(self, other)\u001b[0m\n\u001b[1;32m     63\u001b[0m     \u001b[0;32melse\u001b[0m\u001b[0;34m:\u001b[0m\u001b[0;34m\u001b[0m\u001b[0;34m\u001b[0m\u001b[0m\n\u001b[1;32m     64\u001b[0m         \u001b[0mstripped_name\u001b[0m \u001b[0;34m=\u001b[0m \u001b[0mname\u001b[0m\u001b[0;34m.\u001b[0m\u001b[0mremoveprefix\u001b[0m\u001b[0;34m(\u001b[0m\u001b[0;34m\"__\"\u001b[0m\u001b[0;34m)\u001b[0m\u001b[0;34m.\u001b[0m\u001b[0mremovesuffix\u001b[0m\u001b[0;34m(\u001b[0m\u001b[0;34m\"__\"\u001b[0m\u001b[0;34m)\u001b[0m\u001b[0;34m\u001b[0m\u001b[0;34m\u001b[0m\u001b[0m\n\u001b[0;32m---> 65\u001b[0;31m     \u001b[0mis_cmp\u001b[0m \u001b[0;34m=\u001b[0m \u001b[0mstripped_name\u001b[0m \u001b[0;32min\u001b[0m \u001b[0;34m{\u001b[0m\u001b[0;34m\"eq\"\u001b[0m\u001b[0;34m,\u001b[0m \u001b[0;34m\"ne\"\u001b[0m\u001b[0;34m,\u001b[0m \u001b[0;34m\"lt\"\u001b[0m\u001b[0;34m,\u001b[0m \u001b[0;34m\"le\"\u001b[0m\u001b[0;34m,\u001b[0m \u001b[0;34m\"gt\"\u001b[0m\u001b[0;34m,\u001b[0m \u001b[0;34m\"ge\"\u001b[0m\u001b[0;34m}\u001b[0m\u001b[0;34m\u001b[0m\u001b[0;34m\u001b[0m\u001b[0m\n\u001b[0m\u001b[1;32m     66\u001b[0m \u001b[0;34m\u001b[0m\u001b[0m\n\u001b[1;32m     67\u001b[0m     \u001b[0;34m@\u001b[0m\u001b[0mwraps\u001b[0m\u001b[0;34m(\u001b[0m\u001b[0mmethod\u001b[0m\u001b[0;34m)\u001b[0m\u001b[0;34m\u001b[0m\u001b[0;34m\u001b[0m\u001b[0m\n",
      "\u001b[0;32m~/opt/anaconda3/lib/python3.8/site-packages/pandas/core/arraylike.py\u001b[0m in \u001b[0;36m__le__\u001b[0;34m(self, other)\u001b[0m\n\u001b[1;32m     39\u001b[0m     \u001b[0;32mdef\u001b[0m \u001b[0m__eq__\u001b[0m\u001b[0;34m(\u001b[0m\u001b[0mself\u001b[0m\u001b[0;34m,\u001b[0m \u001b[0mother\u001b[0m\u001b[0;34m)\u001b[0m\u001b[0;34m:\u001b[0m\u001b[0;34m\u001b[0m\u001b[0;34m\u001b[0m\u001b[0m\n\u001b[1;32m     40\u001b[0m         \u001b[0;32mreturn\u001b[0m \u001b[0mself\u001b[0m\u001b[0;34m.\u001b[0m\u001b[0m_cmp_method\u001b[0m\u001b[0;34m(\u001b[0m\u001b[0mother\u001b[0m\u001b[0;34m,\u001b[0m \u001b[0moperator\u001b[0m\u001b[0;34m.\u001b[0m\u001b[0meq\u001b[0m\u001b[0;34m)\u001b[0m\u001b[0;34m\u001b[0m\u001b[0;34m\u001b[0m\u001b[0m\n\u001b[0;32m---> 41\u001b[0;31m \u001b[0;34m\u001b[0m\u001b[0m\n\u001b[0m\u001b[1;32m     42\u001b[0m     \u001b[0;34m@\u001b[0m\u001b[0munpack_zerodim_and_defer\u001b[0m\u001b[0;34m(\u001b[0m\u001b[0;34m\"__ne__\"\u001b[0m\u001b[0;34m)\u001b[0m\u001b[0;34m\u001b[0m\u001b[0;34m\u001b[0m\u001b[0m\n\u001b[1;32m     43\u001b[0m     \u001b[0;32mdef\u001b[0m \u001b[0m__ne__\u001b[0m\u001b[0;34m(\u001b[0m\u001b[0mself\u001b[0m\u001b[0;34m,\u001b[0m \u001b[0mother\u001b[0m\u001b[0;34m)\u001b[0m\u001b[0;34m:\u001b[0m\u001b[0;34m\u001b[0m\u001b[0;34m\u001b[0m\u001b[0m\n",
      "\u001b[0;32m~/opt/anaconda3/lib/python3.8/site-packages/pandas/core/series.py\u001b[0m in \u001b[0;36m_cmp_method\u001b[0;34m(self, other, op)\u001b[0m\n\u001b[1;32m   4976\u001b[0m         \u001b[0mindex\u001b[0m\u001b[0;34m:\u001b[0m \u001b[0mIndexLabel\u001b[0m \u001b[0;34m=\u001b[0m \u001b[0;34m...\u001b[0m\u001b[0;34m,\u001b[0m\u001b[0;34m\u001b[0m\u001b[0;34m\u001b[0m\u001b[0m\n\u001b[1;32m   4977\u001b[0m         \u001b[0mcolumns\u001b[0m\u001b[0;34m:\u001b[0m \u001b[0mIndexLabel\u001b[0m \u001b[0;34m=\u001b[0m \u001b[0;34m...\u001b[0m\u001b[0;34m,\u001b[0m\u001b[0;34m\u001b[0m\u001b[0;34m\u001b[0m\u001b[0m\n\u001b[0;32m-> 4978\u001b[0;31m         \u001b[0mlevel\u001b[0m\u001b[0;34m:\u001b[0m \u001b[0mLevel\u001b[0m \u001b[0;34m|\u001b[0m \u001b[0;32mNone\u001b[0m \u001b[0;34m=\u001b[0m \u001b[0;34m...\u001b[0m\u001b[0;34m,\u001b[0m\u001b[0;34m\u001b[0m\u001b[0;34m\u001b[0m\u001b[0m\n\u001b[0m\u001b[1;32m   4979\u001b[0m         \u001b[0minplace\u001b[0m\u001b[0;34m:\u001b[0m \u001b[0mbool\u001b[0m \u001b[0;34m=\u001b[0m \u001b[0;34m...\u001b[0m\u001b[0;34m,\u001b[0m\u001b[0;34m\u001b[0m\u001b[0;34m\u001b[0m\u001b[0m\n\u001b[1;32m   4980\u001b[0m         \u001b[0merrors\u001b[0m\u001b[0;34m:\u001b[0m \u001b[0mIgnoreRaise\u001b[0m \u001b[0;34m=\u001b[0m \u001b[0;34m...\u001b[0m\u001b[0;34m,\u001b[0m\u001b[0;34m\u001b[0m\u001b[0;34m\u001b[0m\u001b[0m\n",
      "\u001b[0;32m~/opt/anaconda3/lib/python3.8/site-packages/pandas/core/ops/array_ops.py\u001b[0m in \u001b[0;36mcomparison_op\u001b[0;34m(left, right, op)\u001b[0m\n\u001b[1;32m    248\u001b[0m         \u001b[0mCannot\u001b[0m \u001b[0mbe\u001b[0m \u001b[0ma\u001b[0m \u001b[0mDataFrame\u001b[0m\u001b[0;34m,\u001b[0m \u001b[0mSeries\u001b[0m\u001b[0;34m,\u001b[0m \u001b[0;32mor\u001b[0m \u001b[0mIndex\u001b[0m\u001b[0;34m.\u001b[0m\u001b[0;34m\u001b[0m\u001b[0;34m\u001b[0m\u001b[0m\n\u001b[1;32m    249\u001b[0m     \u001b[0mop\u001b[0m \u001b[0;34m:\u001b[0m \u001b[0;34m{\u001b[0m\u001b[0moperator\u001b[0m\u001b[0;34m.\u001b[0m\u001b[0meq\u001b[0m\u001b[0;34m,\u001b[0m \u001b[0moperator\u001b[0m\u001b[0;34m.\u001b[0m\u001b[0mne\u001b[0m\u001b[0;34m,\u001b[0m \u001b[0moperator\u001b[0m\u001b[0;34m.\u001b[0m\u001b[0mgt\u001b[0m\u001b[0;34m,\u001b[0m \u001b[0moperator\u001b[0m\u001b[0;34m.\u001b[0m\u001b[0mge\u001b[0m\u001b[0;34m,\u001b[0m \u001b[0moperator\u001b[0m\u001b[0;34m.\u001b[0m\u001b[0mlt\u001b[0m\u001b[0;34m,\u001b[0m \u001b[0moperator\u001b[0m\u001b[0;34m.\u001b[0m\u001b[0mle\u001b[0m\u001b[0;34m}\u001b[0m\u001b[0;34m\u001b[0m\u001b[0;34m\u001b[0m\u001b[0m\n\u001b[0;32m--> 250\u001b[0;31m \u001b[0;34m\u001b[0m\u001b[0m\n\u001b[0m\u001b[1;32m    251\u001b[0m     \u001b[0mReturns\u001b[0m\u001b[0;34m\u001b[0m\u001b[0;34m\u001b[0m\u001b[0m\n\u001b[1;32m    252\u001b[0m     \u001b[0;34m-\u001b[0m\u001b[0;34m-\u001b[0m\u001b[0;34m-\u001b[0m\u001b[0;34m-\u001b[0m\u001b[0;34m-\u001b[0m\u001b[0;34m-\u001b[0m\u001b[0;34m-\u001b[0m\u001b[0;34m\u001b[0m\u001b[0;34m\u001b[0m\u001b[0m\n",
      "\u001b[0;32m~/opt/anaconda3/lib/python3.8/site-packages/pandas/core/ops/array_ops.py\u001b[0m in \u001b[0;36m_na_arithmetic_op\u001b[0;34m(left, right, op, is_cmp)\u001b[0m\n\u001b[1;32m    137\u001b[0m     \u001b[0mnp\u001b[0m\u001b[0;34m.\u001b[0m\u001b[0mputmask\u001b[0m\u001b[0;34m(\u001b[0m\u001b[0mresult\u001b[0m\u001b[0;34m,\u001b[0m \u001b[0;34m~\u001b[0m\u001b[0mmask\u001b[0m\u001b[0;34m,\u001b[0m \u001b[0mnp\u001b[0m\u001b[0;34m.\u001b[0m\u001b[0mnan\u001b[0m\u001b[0;34m)\u001b[0m\u001b[0;34m\u001b[0m\u001b[0;34m\u001b[0m\u001b[0m\n\u001b[1;32m    138\u001b[0m     \u001b[0mresult\u001b[0m \u001b[0;34m=\u001b[0m \u001b[0mresult\u001b[0m\u001b[0;34m.\u001b[0m\u001b[0mreshape\u001b[0m\u001b[0;34m(\u001b[0m\u001b[0mx\u001b[0m\u001b[0;34m.\u001b[0m\u001b[0mshape\u001b[0m\u001b[0;34m)\u001b[0m  \u001b[0;31m# 2D compat\u001b[0m\u001b[0;34m\u001b[0m\u001b[0;34m\u001b[0m\u001b[0m\n\u001b[0;32m--> 139\u001b[0;31m     \u001b[0;32mreturn\u001b[0m \u001b[0mresult\u001b[0m\u001b[0;34m\u001b[0m\u001b[0;34m\u001b[0m\u001b[0m\n\u001b[0m\u001b[1;32m    140\u001b[0m \u001b[0;34m\u001b[0m\u001b[0m\n\u001b[1;32m    141\u001b[0m \u001b[0;34m\u001b[0m\u001b[0m\n",
      "\u001b[0;32m~/opt/anaconda3/lib/python3.8/site-packages/pandas/core/computation/expressions.py\u001b[0m in \u001b[0;36m<module>\u001b[0;34m\u001b[0m\n\u001b[1;32m     16\u001b[0m \u001b[0;34m\u001b[0m\u001b[0m\n\u001b[1;32m     17\u001b[0m \u001b[0;32mfrom\u001b[0m \u001b[0mpandas\u001b[0m\u001b[0;34m.\u001b[0m\u001b[0m_typing\u001b[0m \u001b[0;32mimport\u001b[0m \u001b[0mFuncType\u001b[0m\u001b[0;34m\u001b[0m\u001b[0;34m\u001b[0m\u001b[0m\n\u001b[0;32m---> 18\u001b[0;31m \u001b[0;32mfrom\u001b[0m \u001b[0mpandas\u001b[0m\u001b[0;34m.\u001b[0m\u001b[0mutil\u001b[0m\u001b[0;34m.\u001b[0m\u001b[0m_exceptions\u001b[0m \u001b[0;32mimport\u001b[0m \u001b[0mfind_stack_level\u001b[0m\u001b[0;34m\u001b[0m\u001b[0;34m\u001b[0m\u001b[0m\n\u001b[0m\u001b[1;32m     19\u001b[0m \u001b[0;34m\u001b[0m\u001b[0m\n\u001b[1;32m     20\u001b[0m \u001b[0;32mfrom\u001b[0m \u001b[0mpandas\u001b[0m\u001b[0;34m.\u001b[0m\u001b[0mcore\u001b[0m\u001b[0;34m.\u001b[0m\u001b[0mcomputation\u001b[0m\u001b[0;34m.\u001b[0m\u001b[0mcheck\u001b[0m \u001b[0;32mimport\u001b[0m \u001b[0mNUMEXPR_INSTALLED\u001b[0m\u001b[0;34m\u001b[0m\u001b[0;34m\u001b[0m\u001b[0m\n",
      "\u001b[0;31mImportError\u001b[0m: cannot import name 'find_stack_level' from 'pandas.util._exceptions' (/Users/ashleywitarsa/opt/anaconda3/lib/python3.8/site-packages/pandas/util/_exceptions.py)"
     ]
    }
   ],
   "source": [
    "#df_young = df.loc[df['max_age'] <= 25]"
   ]
  },
  {
   "cell_type": "markdown",
   "id": "1cd7ea0a",
   "metadata": {},
   "source": [
    "## VISUALIZATIONS"
   ]
  },
  {
   "cell_type": "markdown",
   "id": "367db87f",
   "metadata": {},
   "source": [
    "### Meeting Types"
   ]
  },
  {
   "cell_type": "code",
   "execution_count": 19,
   "id": "dc864ebe",
   "metadata": {
    "scrolled": false
   },
   "outputs": [
    {
     "data": {
      "image/png": "[encoded data removed]",
      "text/plain": [
       "<Figure size 432x288 with 1 Axes>"
      ]
     },
     "metadata": {
      "needs_background": "light"
     },
     "output_type": "display_data"
    }
   ],
   "source": [
    "# Count based on meeting types\n",
    "sns.countplot(x='meeting_type', data=df)\n",
    "plt.show()"
   ]
  },
  {
   "cell_type": "markdown",
   "id": "359130d3",
   "metadata": {},
   "source": [
    "### Top Categories"
   ]
  },
  {
   "cell_type": "code",
   "execution_count": 23,
   "id": "db0484f7",
   "metadata": {
    "scrolled": true
   },
   "outputs": [
    {
     "data": {
      "text/plain": [
       "Sports + Wellness.    35310\n",
       "Music & Art.          17274\n",
       "Reading & Writing.     6830\n",
       "Academic Support       2127\n",
       "Science                1310\n",
       "Name: category_name, dtype: int64"
      ]
     },
     "execution_count": 23,
     "metadata": {},
     "output_type": "execute_result"
    }
   ],
   "source": [
    "df['category_name'].value_counts().head(5)"
   ]
  },
  {
   "cell_type": "code",
   "execution_count": 24,
   "id": "d2802443",
   "metadata": {},
   "outputs": [
    {
     "name": "stdout",
     "output_type": "stream",
     "text": [
      "          column_name  count\n",
      "0  Sports + Wellness.  35310\n",
      "1        Music & Art.  17274\n",
      "2  Reading & Writing.   6830\n",
      "3    Academic Support   2127\n",
      "4             Science   1310\n"
     ]
    }
   ],
   "source": [
    "# Create a new DataFrame from the top 5 values\n",
    "df_top_5 = pd.DataFrame({'column_name': df['category_name'].value_counts().head(5).index, 'count': df['category_name'].value_counts().head(5).values})\n",
    "\n",
    "# Display the new DataFrame\n",
    "print(df_top_5)"
   ]
  },
  {
   "cell_type": "code",
   "execution_count": null,
   "id": "afe7be74",
   "metadata": {},
   "outputs": [],
   "source": [
    "top_categories = df.loc[df['category_name'].]"
   ]
  },
  {
   "cell_type": "code",
   "execution_count": 27,
   "id": "e8680be7",
   "metadata": {},
   "outputs": [
    {
     "data": {
      "image/png": "[encoded data removed]",
      "text/plain": [
       "<Figure size 720x360 with 1 Axes>"
      ]
     },
     "metadata": {
      "needs_background": "light"
     },
     "output_type": "display_data"
    }
   ],
   "source": [
    "# Count based on category name\n",
    "plt.figure(figsize=(10, 5))\n",
    "sns.barplot(x='column_name', y = 'count', data = df_top_5)\n",
    "plt.show()"
   ]
  },
  {
   "cell_type": "code",
   "execution_count": 38,
   "id": "0dc0398d",
   "metadata": {},
   "outputs": [
    {
     "data": {
      "text/plain": [
       "99     22975\n",
       "13      7585\n",
       "18      6907\n",
       "6       6352\n",
       "12      2964\n",
       "10      2931\n",
       "4       2600\n",
       "5       1859\n",
       "14      1774\n",
       "3       1576\n",
       "19      1345\n",
       "11      1278\n",
       "9       1151\n",
       "15      1067\n",
       "16       892\n",
       "7        860\n",
       "17       829\n",
       "24       604\n",
       "65       529\n",
       "0        512\n",
       "8        504\n",
       "22       500\n",
       "2        361\n",
       "21       252\n",
       "20        85\n",
       "60        56\n",
       "25        37\n",
       "23        25\n",
       "26        23\n",
       "30        19\n",
       "100       16\n",
       "1         16\n",
       "55        12\n",
       "64        11\n",
       "40        10\n",
       "50         8\n",
       "51         7\n",
       "56         7\n",
       "45         6\n",
       "62         6\n",
       "66         6\n",
       "71         6\n",
       "63         5\n",
       "27         4\n",
       "34         3\n",
       "70         3\n",
       "75         3\n",
       "61         2\n",
       "35         2\n",
       "31         2\n",
       "29         2\n",
       "28         2\n",
       "110        1\n",
       "52         1\n",
       "171        1\n",
       "78         1\n",
       "80         1\n",
       "Name: max_age, dtype: int64"
      ]
     },
     "execution_count": 38,
     "metadata": {},
     "output_type": "execute_result"
    }
   ],
   "source": [
    "df['max_age'].value_counts()"
   ]
  },
  {
   "cell_type": "code",
   "execution_count": null,
   "id": "25abfc6c",
   "metadata": {},
   "outputs": [],
   "source": []
  }
 ],
 "metadata": {
  "kernelspec": {
   "display_name": "Python 3 (ipykernel)",
   "language": "python",
   "name": "python3"
  },
  "language_info": {
   "codemirror_mode": {
    "name": "ipython",
    "version": 3
   },
   "file_extension": ".py",
   "mimetype": "text/x-python",
   "name": "python",
   "nbconvert_exporter": "python",
   "pygments_lexer": "ipython3",
   "version": "3.8.8"
  }
 },
 "nbformat": 4,
 "nbformat_minor": 5
}
